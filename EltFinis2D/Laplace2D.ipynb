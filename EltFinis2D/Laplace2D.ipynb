{
 "metadata": {
  "name": "",
  "signature": "sha256:8b67f7a89a968ef237c3e6aec551c5856fb4835a48ae519f138698b7ba11d1be"
 },
 "nbformat": 3,
 "nbformat_minor": 0,
 "worksheets": [
  {
   "cells": [
    {
     "cell_type": "heading",
     "level": 1,
     "metadata": {},
     "source": [
      "R\u00e9solution \u00e9quation de Laplace par \u00c9l\u00e9ments Finis"
     ]
    },
    {
     "cell_type": "heading",
     "level": 3,
     "metadata": {},
     "source": [
      "Marc BUFFAT, dpt m\u00e9canique, Universit\u00e9 Claude Bernard Lyon 1"
     ]
    },
    {
     "cell_type": "markdown",
     "metadata": {},
     "source": [
      "<a rel=\"license\" href=\"http://creativecommons.org/licenses/by-nc-sa/2.0/fr/\"><img alt=\"Licence Creative Commons\" style=\"border-width:0;float:right;\" src=\"cc.png\" /></a><br />Mise \u00e0 disposition selon les termes de la <a rel=\"license\" href=\"http://creativecommons.org/licenses/by-nc-sa/2.0/fr/\">Licence Creative Commons <br> Attribution - Pas d\u2019Utilisation Commerciale - Partage dans les M\u00eames Conditions 2.0 France</a>."
     ]
    },
    {
     "cell_type": "code",
     "collapsed": false,
     "input": [
      "%matplotlib inline\n",
      "%autosave 300\n",
      "from  numpy import *\n",
      "import matplotlib.pyplot as plt\n",
      "from IPython.core.display import HTML\n",
      "css_file = 'style.css'\n",
      "HTML(open(css_file, \"r\").read())"
     ],
     "language": "python",
     "metadata": {},
     "outputs": [
      {
       "javascript": [
        "IPython.notebook.set_autosave_interval(300000)"
       ],
       "metadata": {},
       "output_type": "display_data"
      },
      {
       "output_type": "stream",
       "stream": "stdout",
       "text": [
        "Autosaving every 300 seconds\n"
       ]
      },
      {
       "html": [
        "<link href='http://fonts.googleapis.com/css?family=Alegreya+Sans:100,300,400,500,700,800,900,100italic,300italic,400italic,500italic,700italic,800italic,900italic' rel='stylesheet' type='text/css'>\n",
        "<link href='http://fonts.googleapis.com/css?family=Arvo:400,700,400italic' rel='stylesheet' type='text/css'>\n",
        "<link href='http://fonts.googleapis.com/css?family=PT+Mono' rel='stylesheet' type='text/css'>\n",
        "<link href='http://fonts.googleapis.com/css?family=Shadows+Into+Light' rel='stylesheet' type='text/css'>\n",
        "<link href='http://fonts.googleapis.com/css?family=Philosopher:400,700,400italic,700italic' rel='stylesheet' type='text/css'>\n",
        "\n",
        "<style>\n",
        "\n",
        "@font-face {\n",
        "    font-family: \"Computer Modern\";\n",
        "    src: url('http://mirrors.ctan.org/fonts/cm-unicode/fonts/otf/cmunss.otf');\n",
        "}\n",
        "\n",
        "#notebook_panel { /* main background */\n",
        "    background: #888;\n",
        "    color: #f6f6f6;\n",
        "}\n",
        "\n",
        "div.cell { /* set cell width to about 80 chars */\n",
        "    width: 800px;\n",
        "}\n",
        "\n",
        "div #notebook { /* centre the content */\n",
        "    background: #fff; /* white background for content */\n",
        "    width: 1000px;\n",
        "    margin: auto;\n",
        "    padding-left: 1em;\n",
        "}\n",
        "\n",
        "#notebook li { /* More space between bullet points */\n",
        "margin-top:0.8em;\n",
        "}\n",
        "\n",
        "/* draw border around running cells */\n",
        "div.cell.border-box-sizing.code_cell.running { \n",
        "    border: 3px solid #111;\n",
        "}\n",
        "\n",
        "/* Put a solid color box around each cell and its output, visually linking them together */\n",
        "div.cell.code_cell {\n",
        "    background-color: rgba(171,165,131,1.0); \n",
        "    border-radius: 10px; /* rounded borders */\n",
        "    padding: 1em;\n",
        "    margin-top: 1em;\n",
        "}\n",
        "\n",
        "div.text_cell_render{\n",
        "    font-family: 'Arvo' sans-serif;\n",
        "    line-height: 130%;\n",
        "    font-size: 115%;\n",
        "    width:700px;\n",
        "    margin-left:auto;\n",
        "    margin-right:auto;\n",
        "}\n",
        "\n",
        "\n",
        "/* Formatting for header cells */\n",
        ".text_cell_render h1 {\n",
        "    font-family: 'Philosopher', sans-serif;\n",
        "    font-weight: 400;\n",
        "    font-size: 40pt;\n",
        "    line-height: 100%;\n",
        "    color: rgb(12,85,97);\n",
        "    margin-bottom: 0.1em;\n",
        "    margin-top: 0.1em;\n",
        "    display: block;\n",
        "}\t\n",
        ".text_cell_render h2 {\n",
        "    font-family: 'Philosopher', serif;\n",
        "    font-weight: 700;\n",
        "    font-size: 24pt;\n",
        "    line-height: 100%;\n",
        "    color: rgb(171,165,131);\n",
        "    margin-bottom: 0.1em;\n",
        "    margin-top: 0.1em;\n",
        "    display: block;\n",
        "}\t\n",
        "\n",
        ".text_cell_render h3 {\n",
        "    font-family: 'Philosopher', serif;\n",
        "    margin-top:12px;\n",
        "    margin-bottom: 3px;\n",
        "    font-style: italic;\n",
        "    color: rgb(95,92,72);\n",
        "}\n",
        "\n",
        ".text_cell_render h4 {\n",
        "    font-family: 'Philosopher', serif;\n",
        "}\n",
        "\n",
        ".text_cell_render h5 {\n",
        "    font-family: 'Alegreya Sans', sans-serif;\n",
        "    font-weight: 300;\n",
        "    font-size: 16pt;\n",
        "    color: grey;\n",
        "    font-style: italic;\n",
        "    margin-bottom: .1em;\n",
        "    margin-top: 0.1em;\n",
        "    display: block;\n",
        "}\n",
        "\n",
        ".text_cell_render h6 {\n",
        "    font-family: 'PT Mono', sans-serif;\n",
        "    font-weight: 300;\n",
        "    font-size: 10pt;\n",
        "    color: grey;\n",
        "    margin-bottom: 1px;\n",
        "    margin-top: 1px;\n",
        "}\n",
        "\n",
        ".CodeMirror{\n",
        "\tfont-family: \"PT Mono\";\n",
        "        font-size: 100%;\n",
        "}\n",
        "\n",
        ".rendered_html code{\n",
        "\tfont-family: 'PT Mono', sans-serif;\n",
        "    \tfont-weight: 300;\n",
        "\tfont-size: 100%;\n",
        "\tcolor: #083F42;\n",
        "\tbackground-color: #FFFFDD;\n",
        "    \tmargin-bottom: 10px;\n",
        "    \tmargin-top: 10px;\n",
        "}\n",
        "</style>\n"
       ],
       "metadata": {},
       "output_type": "pyout",
       "prompt_number": 1,
       "text": [
        "<IPython.core.display.HTML at 0x7f0035a50450>"
       ]
      }
     ],
     "prompt_number": 1
    },
    {
     "cell_type": "markdown",
     "metadata": {},
     "source": [
      "## Mise en \u00e9quation\n",
      "### Equation d'\u00e9quilibre\n",
      "$$ -\\Delta u = f \\mbox{ dans } \\Omega \\mbox{ avec } u_\\Gamma=0$$\n",
      "\n",
      "### Formulation variationnelle\n",
      "\n",
      "Trouver $u$ avec $u_\\Gamma=0$ t.q.\n",
      "$$ \\int_\\Omega{\\nabla u \\nabla v \\, d\\omega} = \\int_\\Omega{ f v \\,d\\omega}\\;\\;\\forall v \\mbox{ t.q. } v_\\Gamma=0$$"
     ]
    },
    {
     "cell_type": "markdown",
     "metadata": {},
     "source": [
      "## Approximation Elements finis\n",
      "\n",
      "- maillage de $\\Omega$ \n",
      "\n",
      "- approximation sur maillage $u_h$"
     ]
    },
    {
     "cell_type": "markdown",
     "metadata": {},
     "source": [
      "### Maillage \u00e9l\u00e9ments finis\n",
      "triangulation de $\\Omega$ en $Ne$ \u00e9l\u00e9ments : $ \\Omega = \\sum_{k=1}^{Ne} e_k $"
     ]
    },
    {
     "cell_type": "code",
     "collapsed": false,
     "input": [
      "from Maillage import Maillage\n",
      "# maillage carre unit\u00e9\n",
      "G=Maillage(nom=\"maillage grossier\")\n",
      "G.quadrangle([[0.,0.],[1.,0.],[1.,1.],[0.,1.]],3,3,num=[2,2,2,2],ttype=2)\n",
      "G=G.raffine()  # raffinement \n",
      "G.info()\n",
      "# tracer\n",
      "plt.figure(figsize=(6,6))\n",
      "plt.axis('equal')\n",
      "plt.axis([-0.2,1.2,-0.2,1.2])\n",
      "G.plotmesh()\n",
      "plt.draw()"
     ],
     "language": "python",
     "metadata": {},
     "outputs": [
      {
       "output_type": "stream",
       "stream": "stdout",
       "text": [
        "maillage grossier x2\n",
        "ne= 32  nn= 25  type= 1  ddl= 3\n",
        "Xmin/max Ymin/max= 0.0 1.0 0.0 1.0\n",
        "Surface  1.0\n"
       ]
      },
      {
       "metadata": {},
       "output_type": "display_data",
       "png": "[encoded data removed]",
       "text": [
        "<matplotlib.figure.Figure at 0x7f4ebc9c2450>"
       ]
      }
     ],
     "prompt_number": 11
    },
    {
     "cell_type": "markdown",
     "metadata": {},
     "source": [
      "### structure de donn\u00e9es\n",
      "\n",
      "- num\u00e9rotation des $Ne$ \u00e9l\u00e9ments\n",
      "- num\u00e9rotation des $Nn$ sommets (noeuds)\n",
      "\n",
      "Un maillage \u00e9l\u00e9ments finis est donc constitu\u00e9 des informations suivantes:\n",
      "\n",
      "1. le nombre de noeuds nn, le nombre d'\u00e9l\u00e9ments ne,\n",
      "\n",
      "2. les coordonn\u00e9es $(x_{i},y_{i})$ de chaque noeud $M_{i}$ du maillage,\n",
      "\n",
      "3. les num\u00e9ros des sommets de chaque \u00e9l\u00e9ment $e_{k}$ (ou table de connection): $tbc_{k,1},\\, tbc_{k,2}\\,,tbc_{k,3}$\n",
      " \n",
      "4. pour chaque noeud $M_{i}$ , une information (i.e. un entier) $frt_{i}$ qui pr\u00e9cise si le noeud est interne ($frt_{i}=0$), ou sur une fronti\u00e8re $\\Gamma_{l}$ ($frt_{i}=l$) \n",
      "\n",
      "5. pour chaque \u00e9l\u00e9ment $e_{k}$, une information de r\u00e9gion $reg_{k}$, indiquant le num\u00e9ro du domaine auquel appartiens l'\u00e9l\u00e9ment. Par d\u00e9faut il n'y a qu'un seul domaine et $reg_{k}=1$ pour tous les \u00e9l\u00e9ments. "
     ]
    },
    {
     "cell_type": "code",
     "collapsed": false,
     "input": [
      "plt.figure(figsize=(12,6))\n",
      "plt.subplot(1,2,1)\n",
      "G.plotmesh()\n",
      "G.plotelt()\n",
      "plt.axis('equal')\n",
      "plt.axis('off')\n",
      "plt.subplot(1,2,2)\n",
      "G.plotmesh()\n",
      "G.plotnds()\n",
      "plt.axis('equal')\n",
      "plt.axis('off')\n",
      "plt.show()"
     ],
     "language": "python",
     "metadata": {},
     "outputs": [
      {
       "metadata": {},
       "output_type": "display_data",
       "png": "[encoded data removed]",
       "text": [
        "<matplotlib.figure.Figure at 0x7f4ebc811150>"
       ]
      }
     ],
     "prompt_number": 12
    },
    {
     "cell_type": "markdown",
     "metadata": {},
     "source": [
      "POur repr\u00e9senter ces donn\u00e9es on utilise une structure de donn\u00e9es Maillage (de classe sous Python) avec (en notant **G** le nom de variable Maillage):\n",
      "\n",
      "- **G.nn** nbre de noeuds de la g\u00e9om\u00e9trie G : entier\n",
      "\n",
      "- **G.ne** nbre d'\u00e9l\u00e9ments de la g\u00e9om\u00e9trie G : entier\n",
      "\n",
      "- **G.ddl** nbre de degr\u00e9 de libert\u00e9 par \u00e9l\u00e9ments (=3 pour des \u00e9l\u00e9ments $\\mathcal{P}^{1}$ en 2D) : entier\n",
      "\n",
      "- **G.X** tableau des coordonn\u00e9es (x,y) des noeuds: tableau G.nn*G.dim r\u00e9els\n",
      "\n",
      "- **G.Tbc** table de connection: tableau G.ne*G.ddl entiers\n",
      "\n",
      "- **G.Frt** num\u00e9ro de fronti\u00e8re par noeuds: tableau G.nn entiers\n",
      "\n",
      "- **G.Reg** num\u00e9ro de r\u00e9gion par \u00e9l\u00e9ments: tableau G.ne entiers"
     ]
    },
    {
     "cell_type": "code",
     "collapsed": false,
     "input": [
      "print \"Maillage \",G.nn,G.ne,G.ddl\n",
      "print \"Table de connection\"\n",
      "print G.Tbc[:5,:]\n",
      "print \"Coordonn\u00e9es des noeuds\"\n",
      "print G.X[:4,:]"
     ],
     "language": "python",
     "metadata": {},
     "outputs": [
      {
       "output_type": "stream",
       "stream": "stdout",
       "text": [
        "Maillage  25 32 3\n",
        "Table de connection\n",
        "[[ 0  9 11]\n",
        " [ 1 13  9]\n",
        " [ 4 11 13]\n",
        " [13 11  9]\n",
        " [ 3 10 16]]\n",
        "Coordonn\u00e9es des noeuds\n",
        "[[ 0.   0. ]\n",
        " [ 0.5  0. ]\n",
        " [ 1.   0. ]\n",
        " [ 0.   0.5]]\n"
       ]
      }
     ],
     "prompt_number": 13
    },
    {
     "cell_type": "markdown",
     "metadata": {},
     "source": [
      "### Fronti\u00e8re et Conditions aux limites"
     ]
    },
    {
     "cell_type": "code",
     "collapsed": false,
     "input": [
      "plt.figure(figsize=(5,5))\n",
      "G.plotfront()\n",
      "plt.axis('equal')\n",
      "plt.axis([-0.2,1.2,-0.2,1.2])\n",
      "plt.show()\n",
      "print \"Code pour les noeuds fronti\u00e8res \"\n",
      "print G.Frt"
     ],
     "language": "python",
     "metadata": {},
     "outputs": [
      {
       "metadata": {},
       "output_type": "display_data",
       "png": "[encoded data removed]",
       "text": [
        "<matplotlib.figure.Figure at 0x7f4ebc67be90>"
       ]
      },
      {
       "output_type": "stream",
       "stream": "stdout",
       "text": [
        "Code pour les noeuds fronti\u00e8res \n",
        "[2 2 2 2 0 2 2 2 2 2 2 0 2 0 0 2 0 2 0 0 0 0 2 2 2]\n"
       ]
      }
     ],
     "prompt_number": 14
    },
    {
     "cell_type": "markdown",
     "metadata": {},
     "source": [
      "## Approximation \u00e9l\u00e8ments finis $P^1$\n",
      "\n",
      "### Fonction de base $\\Phi_i(x,y)$\n",
      "\n",
      "Les fonctions $\\Phi_{i}$ forment une base locale, i.e. une fonction $\\Phi_{i}(x,y)$ est non nulle uniquement sur une petite partie du maillage: le support du noeud $M_{i}$, i.e. l'ensemble des \u00e9l\u00e9ments $e_{l}$ ayant le noeud $M_{i}$ comme sommet ($M_{i}\\in e_{l}$). \n",
      "\n",
      "Elles v\u00e9rifient les propri\u00e9t\u00e9s suivantes:\n",
      "\n",
      "1. la fonction de base $\\Phi_{i}(x,y)$ vaut 1 au noeud i et 0 sur tous les autres noeuds: $\\Phi_{i}(x_{j},y_{j})=\\delta_{ij}$\n",
      "  \n",
      "2. la fonction de base $\\Phi_{i}(x,y)$ est non nulle uniquement sur son support $Sup_{i}=\\{\\cup e_{k}\\,/M_{i}\\in e_{k}\\}$ $$N_{i}(x,y)\\neq0\\,{\\, si\\,}\\,(x,y)\\in Sup_{i}$$\n",
      " \n",
      "3. la fonction de base $\\Phi_{i}(x,y)$ est orthogonale \u00e0 presque toutes les autres fonctions de base $\\Phi_{j}$, en particulier celles qui sont associ\u00e9es \u00e0 des noeuds j non voisin de i (t.q. $Sup_{i}\\cap Sup_{j}=\\emptyset$) : \n",
      "$$\n",
      "\\Phi_{i}(x,y)*\\Phi_{j}(x,y)\\,\\left\\{ \\begin{array}{cc}\n",
      "=0 & \\mbox{ si }\\,Sup_{i}\\cap Sup_{j}=\\emptyset\\\\\n",
      "=0 & \\mbox{ si }\\,(x,y)\\notin(Sup_{i}\\cap Sup_{j})\\\\\n",
      "\\neq0 & \\mbox{ si }\\,(x,y)\\in(Sup_{i}\\cap Sup_{j})\n",
      "\\end{array}\\right.\n",
      "$$ \n",
      "\n",
      "### Fonctions de base sur un \u00e9l\u00e9ment $e_k$\n",
      "Sur un \u00e9l\u00e9ment $e_k$, il n'y a que 3 fonctions de base non nulles associ\u00e9es aux 3 sommets $[n_1,n_2,n_3]$\n",
      "\n",
      "Ces 3 fonctions de base peuvent s'exprimer en fonction des coordonn\u00e9es barycentriques ${\\lambda_i}$ sur l'\u00e9lement $e_k$:\n",
      "\n",
      "$$ \\Phi_{n_1}(x,y) = \\lambda_1 ,  \\Phi_{n_2}(x,y) = \\lambda_2 ,  \\Phi_{n_3}(x,y) = \\lambda_3$$\n",
      "\n",
      "#### coordonn\u00e9es barycentriques\n",
      "<img src=\"cbary.png\" width=300/>\n",
      "Ces coordonn\u00e9es sont d\u00e9finies de la fa\u00e7on suivante: pour chaque point $M$ de coordonn\u00e9es $(x,y)$, le vecteur $\\overrightarrow{OM}$ s'\u00e9crit en fonction des sommets du triangle, comme combinaison des vecteurs $\\overrightarrow{OS_{1}}$, $\\overrightarrow{OS_{2}}$, $\\overrightarrow{OS_{3}}$. Les coefficients sont les coordonn\u00e9es barycentriques par rapport au triangle consid\u00e9r\u00e9, i.e.\n",
      "$$\n",
      "\\overrightarrow{OM}=\\lambda_{1}\\overrightarrow{OS_{1}}+\\lambda_{2}\\overrightarrow{OS_{2}}+\\lambda_{3}\\overrightarrow{OS_{3}}\\,\\,\\forall O\\,\\,\\,\\mbox{ avec }\\,\\lambda_{1}+\\lambda_{2}+\\lambda_{3}=1\n",
      "$$ \n",
      "\n",
      "Les valeurs de $\\lambda_{1},\\lambda_{2},\\lambda_{3}$ v\u00e9rifient les relations (voir la figure pour les notations):\n",
      "$$\n",
      "\\begin{eqnarray}\n",
      "\\lambda_{1}=\\frac{Aire(MS_{2}S_{3})}{Aire(S_{1}S_{2}S_{3})}=\\frac{\\frac{1}{2}\\overline{MH_{1}}\\overline{.S_{2}S_{3}}}{Aire(S_{1}S_{2}S_{3})}\\\\\t\t\n",
      "\\lambda_{2}=\\frac{Aire(MS_{3}S_{1})}{Aire(S_{1}S_{2}S_{3})}=\\frac{\\frac{1}{2}\\overline{MH_{2}}\\overline{.S_{3}S_{1}}}{Aire(S_{1}S_{2}S_{3})}\\\\\t\t\n",
      "\\lambda_{3}=\\frac{Aire(MS_{1}S_{2})}{Aire(S_{1}S_{2}S_{3})}=\\frac{\\frac{1}{2}\\overline{MH_{3}}\\overline{.S_{1}S_{2}}}{Aire(S_{1}S_{2}S_{3})}\\\\\n",
      "\\end{eqnarray}\n",
      "$$ \n",
      "qui donnent les expressions suivantes:\n",
      "$$\n",
      "\\left\\{ \\begin{array}{c}\n",
      "\\lambda_{1}(x,y)=\\frac{(y_{n_{2}}-y_{n_{3}})\\, x+(x_{n_{3}}-x_{n_{2}})\\, y+(x_{n_{2}}y_{n_{3}}-x_{n_{3}}y_{n_{2}})}{(x_{n_{2}}-x_{n_{1}})(y_{n_{3}}-y_{n_{1}})-(x_{n_{3}}-x_{n_{1}})(y_{n_{2}}-y_{n_{1}})}\\\\\n",
      "\\lambda_{2}(x,y)=\\frac{(y_{n_{3}}-y_{n_{1}})\\, x+(x_{n_{1}}-x_{n_{3}})\\, y+(x_{n_{3}}y_{n_{1}}-x_{n_{1}}y_{n_{3}})}{(x_{n_{2}}-x_{n_{1}})(y_{n_{3}}-y_{n_{1}})-(x_{n_{3}}-x_{n_{1}})(y_{n_{2}}-y_{n_{1}})}\\\\\n",
      "\\lambda_{3}(x,y)=\\frac{(y_{n_{1}}-y_{n_{2}})\\, x+(x_{n_{2}}-x_{n_{1}})\\, y+(x_{n_{1}}y_{n_{2}}-x_{n_{2}}y_{n_{1}})}{(x_{n_{2}}-x_{n_{1}})(y_{n_{3}}-y_{n_{1}})-(x_{n_{3}}-x_{n_{1}})(y_{n_{2}}-y_{n_{1}})}\n",
      "\\end{array}\\right.\n",
      "$$ \n"
     ]
    },
    {
     "cell_type": "markdown",
     "metadata": {},
     "source": [
      "\n",
      "### Approximation EF\n",
      "\n",
      "- solution approch\u00e9e\n",
      "$$u^h(x,y) = \\sum_{j=1}^{Nn} u_j \\Phi_j(x,y) $$\n",
      "\n",
      "- fonctions test\n",
      "$$v^h(x,y) = \\Phi_i(x,y)$$\n",
      "\n",
      "- interpolation 2nd membre \n",
      "\n",
      "$$ f^h(x,y) = \\sum_{j=1}^{Nn} f_j \\Phi_j(x,y) $$\n",
      "### Formulation faible discrete\n",
      "\n",
      "$$\\sum_{j=1}^{Nn} u_j \\int_\\Omega{\\nabla \\Phi_j \\nabla \\Phi_i \\, d\\omega} = \\int_\\Omega{ f^h \\Phi_i \\,d\\omega}\\;\\;\\forall i$$\n",
      "\n",
      "### Syst\u00e8me matricielle\n",
      " $$ K U = M F \\mbox{ avec } $$\n",
      "avec $K$ matrice de rigidit\u00e9 et $M$ matrice de masse\n",
      "$$K_{ij}=\\int_\\Omega{\\nabla \\Phi_j \\nabla \\Phi_i \\, d\\omega}$$\n",
      "$$M_{ij}=\\int_\\Omega{\\Phi_j \\Phi_i \\, d\\omega}$$\n",
      "\n",
      "Le calcul des matrices $K$ et $M$ se fait \u00e9l\u00e9ment par \u00e9l\u00e9ment\n",
      "\n",
      "$$ K_{ij} = \\sum_{k=1}^{ne} \\int_{e_k}{\\nabla \\Phi_j \\nabla \\Phi_i \\, d\\omega}$$"
     ]
    },
    {
     "cell_type": "markdown",
     "metadata": {},
     "source": [
      "## Calcul des matrices \u00e9l\u00e9mentaires"
     ]
    },
    {
     "cell_type": "markdown",
     "metadata": {},
     "source": [
      "### Matrice \u00e9l\u00e9mentaire de rigidit\u00e9\n",
      "Nous rappelons de la matrice de rigidit\u00e9 calcul\u00e9e sur un \u00e9l\u00e9ment $e_k$ de sommet $[n_1,n_2]$ est une matrice 3x3: \n",
      "\n",
      "$$ K^k_{pq} = \\int_{e_k} {\\nabla \\Phi_{n_p} \\nabla \\Phi_{n_q} \\, d\\omega} \\mbox{ pour } p,q=1,2,3$$\n",
      " \n",
      "\n",
      "Les propri\u00e9t\u00e9s de sym\u00e9trie de cette matrice montrent qu'elle ne  d\u00e9pend que de 3 coefficients, que l'on peut \u00e9crire sous forme vectorielle:\n",
      "$$\n",
      "\\mathbf{K}_{22}^{k}=\\frac{\\left\\Vert \\overrightarrow{S_{1}S_{3}}\\right\\Vert ^{2}}{4aire_{k}},\\,\\mathbf{K}_{33}^{k}=\\frac{\\left\\Vert \\overrightarrow{S_{2}S_{1}}\\right\\Vert ^{2}}{4aire_{k}},\\,\\mathbf{K}_{23}^{k}=\\frac{\\overrightarrow{S_{1}S_{3}}.\\overrightarrow{S_{2}S_{1}}}{4aire_{k}},\n",
      " $$\n",
      "avec \n",
      "$$ aire_{k}=\\frac{1}{2}\\left\\Vert \\overrightarrow{S_{1}S_{3}}\\otimes\\overrightarrow{S_{2}S_{1}}\\right\\Vert $$\n",
      "que l'on reporte dans l'expression de $\\mathbf{K}^{k}$\n",
      " \n",
      "$$\n",
      "\\mathbf{K}^{k}=\\left[\\begin{array}{ccc}\n",
      "K_{22}^{k}+K_{33}^{k}+2K_{23}^{k} & -K_{23}^{k}-K_{22}^{k} & -K_{23}^{k}-K_{33}^{k}\\\\\n",
      "-K_{23}^{k}-K_{22}^{k} & K_{22}^{k} & K_{23}^{k}\\\\\n",
      "-K_{23}^{k}-K_{33}^{k} & K_{23}^{k} & K_{33}^{k}\n",
      "\\end{array}\\right]\n",
      "$$ \n",
      "\n",
      "En utilisant les notations matricielles, ces formulent se programment tr\u00e8s simplement. La fonction **MatRigidite** impl\u00e9mente  les relations pr\u00e9c\u00e9dentes en utilisant une m\u00e9thode **gradient** qui calcule pour un \u00e9l\u00e9ment k le gradient $\\nabla \\lambda_p$ des 3 fonctions de base dans un tableau 2x3 $dN$ ainsi que l'aire du triangle. On a aussi utiliser le fait que le produit vectoriel $\\overrightarrow{S_{1}S_{3}}\\otimes\\overrightarrow{S_{2}S_{1}}$ a une seule composante non nulle, qui est suivant l'axe z, et qui est positive si les sommets sont donn\u00e9s dans l'ordre trigonom\u00e9trique dans la table de connexion (ce qui est le cas)."
     ]
    },
    {
     "cell_type": "markdown",
     "metadata": {},
     "source": [
      "### Matrice \u00e9l\u00e9mentaire de masse\n",
      "La matrice \u00e9l\u00e9mentaire de masse s'\u00e9crit:\n",
      "$$M^k_{pq}=\\int_{e_k}{\\Phi_{n_p} \\Phi_{n_q} \\, d\\omega}$$\n",
      "\n",
      "Le calcul donne l'expression de la matrice de masse \u00e9l\u00e9mentaire:\n",
      "$$\n",
      "\\mathbf{M}^{k}=\\frac{aire_{k}}{12}\\left[\\begin{array}{ccc}\n",
      "2 & 1 & 1\\\\\n",
      "1 & 2 & 1\\\\\n",
      "1 & 1 & 2\n",
      "\\end{array}\\right]\n",
      "$$ \n",
      "\n",
      "qui est impl\u00e9ment\u00e9 dans  la fonction **MatMasse** ."
     ]
    },
    {
     "cell_type": "code",
     "collapsed": false,
     "input": [
      "def MatRigidite(G,k):\n",
      "    \"\"\" calcul matrice de rigidite sur l'elt k du maillage G \"\"\"\n",
      "    dN,Aire=G.gradient(k)\n",
      "    K22=dot(dN[:,1],dN[:,1])*Aire\n",
      "    K33=dot(dN[:,2],dN[:,2])*Aire\n",
      "    K23=dot(dN[:,1],dN[:,2])*Aire\n",
      "    Ke=array([[K22+K33+2*K23, -K23-K22,-K23-K33],\n",
      "              [-K23-K22     , K22     , K23],\n",
      "              [-K23-K33     , K23     , K33]])\n",
      "    return Ke\n",
      "def MatMasse(G,k):\n",
      "    \"\"\" calcul matrice de masse sur l'elt k du maillage G \"\"\"\n",
      "    Aire=G.aire(k)\n",
      "    Me=Aire/12.0*array([[ 2, 1 ,1 ],\n",
      "                        [ 1, 2 ,1 ],\n",
      "                        [ 1, 1 ,2 ]])\n",
      "    return Me"
     ],
     "language": "python",
     "metadata": {},
     "outputs": [],
     "prompt_number": 15
    },
    {
     "cell_type": "markdown",
     "metadata": {},
     "source": [
      "## Assemblage\n",
      "L'assemblage de la matrice $\\mathbf{K}$ et du second membre $\\mathbf{B}$ consiste \u00e0 passer en revu les \u00e9l\u00e9ments, \u00e0 calculer les matrices \u00e9l\u00e9mentaires de masse et de rigidit\u00e9, puis \u00e0 mettre ses valeurs aux bons endroits dans la matrice et le second membre globale.\n",
      "\n",
      "L'algorithme d'assemblage ci dessous donne le principe de cette assemblage.\n",
      "\n",
      "    K=0, M=0   #initialisation\n",
      "    pour k de 1 \u00e0 ne         # boucle sur les \u00e9l\u00e9ments\n",
      "        calcul des matrices Ke et Me\n",
      "        ni = Tbc[k,:]         # num\u00e9ros des noeuds de l'\u00e9l\u00e9ment\n",
      "        pour p de 1 \u00e0 3\n",
      "            np = n[p]\n",
      "            pour q de 1 \u00e0 3\n",
      "                nq = n[q]\n",
      "                K[np,nq] = K[np,nq] + Ke[p,q]\n",
      "                M[np,nq] = M[np,nq] + Me[p,q]\n",
      "            fin q\n",
      "        fin p\n",
      "     fin k\n",
      "\n",
      "Le programme **Assemblage** impl\u00e9mente cet algorithme, en utilisant les notations matricielles  avec adressage indirecte qui permettent d'\u00e9viter l'\u00e9criture de boucles. "
     ]
    },
    {
     "cell_type": "code",
     "collapsed": false,
     "input": [
      "def Assemblage(G):\n",
      "    K=zeros((G.nn,G.nn))\n",
      "    for k in range(G.ne):\n",
      "        Ke=MatRigidite(G,k)\n",
      "        ni=G.Tbc[k,:]\n",
      "        K[ix_(ni,ni)] += Ke\n",
      "    return K\n",
      "def Smb(G,F):\n",
      "    B=zeros((G.nn))\n",
      "    for k in range(G.ne):\n",
      "        Me=MatMasse(G,k)\n",
      "        ni=G.Tbc[k,:]\n",
      "        Fe=F[ix_(ni)]\n",
      "        B[ix_(ni)] += dot(Me,Fe)\n",
      "    return B"
     ],
     "language": "python",
     "metadata": {},
     "outputs": [],
     "prompt_number": 16
    },
    {
     "cell_type": "markdown",
     "metadata": {},
     "source": [
      "### calcul de l'int\u00e9gale $L^2$ d'une fonction f\n",
      "\n",
      "$$\\int_\\Omega { f^2\\,d\\omega } = \\sum_{k=1}^{Ne} \\int_{e_k} { f^2\\,d\\omega }$$\n",
      "et sur un \u00e9l\u00e9ment\n",
      "$$I^k = \\int_{e_k} { f^2\\,d\\omega } = \\int_{e_k} { (\\sum_{q=1}^3 f_{n_q} \\Phi_{n_q})(\\sum_{p=1}^3 f_{n_p} \\Phi_{n_p})\\,d\\omega }$$\n",
      "$$I^k = {F^k}^t M^k F^k \\mbox{ avec } F^k = [f_{n_1},f_{n_2},f_{n_3}]$$"
     ]
    },
    {
     "cell_type": "code",
     "collapsed": false,
     "input": [
      "def intL2(G,F):\n",
      "    \"\"\" calcul integrale L2 d'une fonction F sur un maillage G \"\"\"\n",
      "    somme=0.0\n",
      "    for k in range(G.ne):\n",
      "        Me = MatMasse(G,k)\n",
      "        ni = G.Tbc[k,:]\n",
      "        Fe = F[ix_(ni)]\n",
      "        somme += dot(Fe,dot(Me, Fe))\n",
      "    return somme"
     ],
     "language": "python",
     "metadata": {},
     "outputs": [],
     "prompt_number": 17
    },
    {
     "cell_type": "markdown",
     "metadata": {},
     "source": [
      "## R\u00e9solution \n",
      "L'application des conditions aux limites sur le syst\u00e8me lin\u00e9aire $\\mathbf{A} U = \\mathbf{B}$ obtenu apr\u00e8s l'assemblage d\u00e9pend du type de conditions aux limites.\n",
      "\n",
      "L'imposition des conditions aux limites de Dirichlet consiste \u00e0 fixer la valeur de la solution aux noeuds $M_{i}$ se trouvant sur la fronti\u00e8re de Dirichlet. Pour cela on remplace simplement dans le syst\u00e8me lin\u00e9aire l'\u00e9quation $i$ par la condition aux limites $u_i = 0$.\n",
      " \n",
      "Dans la matrice $\\mathbf{A}$, cela revient \u00e0 annuler la ligne $i$ et \u00e0 mettre un 1 sur la diagonale, et dans le second membre $\\mathbf{B}$, \u00e0 remplacer la composante i par 0 \n",
      "$$ \\mathbf{A}_{ij}=0,\\,\\mathbf{A}_{ii}=1,\\,\\mathbf{B}_{i}=0\\,$$\n",
      "\n",
      "Apr\u00e8s imposition des conditions aux limites, la solution approch\u00e9e $u^{h}$ s'obtiens par r\u00e9solution du syst\u00e8me lin\u00e9aire qui fournit les valeurs nodales $U$ de $u^h$."
     ]
    },
    {
     "cell_type": "code",
     "collapsed": false,
     "input": [
      "# resolution EF\n",
      "print \"Resolution Laplacien maillage grossier\"\n",
      "F=ones(G.nn)\n",
      "A=Assemblage(G)\n",
      "B=Smb(G,F)\n",
      "# conditions limites\n",
      "for i in range(G.nn):\n",
      "    if G.Frt[i]==2:\n",
      "        A[i,:]=0.; A[:,i]=0.; A[i,i]=1.0;\n",
      "        B[i]=0.0\n",
      "# resolution\n",
      "U=linalg.solve(A,B)\n",
      "print \"solution min/max=\",amin(U),amax(U)\n",
      "G.isosurf(U,\"Solution EF\")\n",
      "plt.axis('equal'); plt.axis('off')"
     ],
     "language": "python",
     "metadata": {},
     "outputs": [
      {
       "output_type": "stream",
       "stream": "stdout",
       "text": [
        "Resolution Laplacien maillage grossier\n",
        "solution min/max= 0.0 0.078125\n"
       ]
      },
      {
       "metadata": {},
       "output_type": "pyout",
       "prompt_number": 18,
       "text": [
        "(0.0, 1.0, 0.0, 1.0)"
       ]
      },
      {
       "metadata": {},
       "output_type": "display_data",
       "png": "[encoded data removed]",
       "text": [
        "<matplotlib.figure.Figure at 0x7f4ebc6edd50>"
       ]
      }
     ],
     "prompt_number": 18
    },
    {
     "cell_type": "markdown",
     "metadata": {},
     "source": [
      "## R\u00e9solution sur un maillage raffin\u00e9e x4"
     ]
    },
    {
     "cell_type": "code",
     "collapsed": false,
     "input": [
      "G2=G.raffine()\n",
      "G2=G2.raffine()\n",
      "G2.info()\n",
      "plt.figure(figsize=(5,5))\n",
      "plt.axis([-0.2,1.2,-0.2,1.2])\n",
      "plt.axis('equal'); plt.axis('off')\n",
      "G2.plotmesh()\n",
      "plt.draw()\n",
      "# calcul 2nd membre\n",
      "F2=ones(G2.nn)"
     ],
     "language": "python",
     "metadata": {},
     "outputs": [
      {
       "output_type": "stream",
       "stream": "stdout",
       "text": [
        "maillage grossier x2 x2 x2\n",
        "ne= 512  nn= 289  type= 1  ddl= 3\n",
        "Xmin/max Ymin/max= 0.0 1.0 0.0 1.0\n",
        "Surface  1.0\n"
       ]
      },
      {
       "metadata": {},
       "output_type": "display_data",
       "png": "[encoded data removed]",
       "text": [
        "<matplotlib.figure.Figure at 0x7f4ebc49a710>"
       ]
      }
     ],
     "prompt_number": 19
    },
    {
     "cell_type": "code",
     "collapsed": false,
     "input": [
      "print \"Resolution Laplacien maillage raffine\"\n",
      "A=Assemblage(G2)\n",
      "B=Smb(G2,F2)\n",
      "# conditions limites\n",
      "for i in range(G2.nn):\n",
      "    if G2.Frt[i]==2:\n",
      "        A[i,:]=0.; A[:,i]=0.; A[i,i]=1.0;\n",
      "        B[i]=0.0\n",
      "# resolution\n",
      "U2=linalg.solve(A,B)\n",
      "print \"solution min/max=\",amin(U2),amax(U2)\n",
      "G2.isosurf(U2,\"Solution EF\")\n",
      "plt.axis('equal'); plt.axis('off')"
     ],
     "language": "python",
     "metadata": {},
     "outputs": [
      {
       "output_type": "stream",
       "stream": "stdout",
       "text": [
        "Resolution Laplacien maillage raffine\n",
        "solution min/max="
       ]
      },
      {
       "output_type": "stream",
       "stream": "stdout",
       "text": [
        " 0.0 0.0742271380173\n"
       ]
      },
      {
       "metadata": {},
       "output_type": "pyout",
       "prompt_number": 20,
       "text": [
        "(0.0, 1.0, 0.0, 1.0)"
       ]
      },
      {
       "metadata": {},
       "output_type": "display_data",
       "png": "[encoded data removed]",
       "text": [
        "<matplotlib.figure.Figure at 0x7f4ebc498ad0>"
       ]
      }
     ],
     "prompt_number": 20
    },
    {
     "cell_type": "markdown",
     "metadata": {},
     "source": [
      "## Validation\n",
      "\n",
      "solution analytique pour $f=2\\pi^2 \\sin{\\pi x} \\sin{\\pi y} $\n",
      "#### mode propre\n",
      "$$u_{ex}(x,y) = \\sin{\\pi x} \\sin{\\pi y} $$"
     ]
    },
    {
     "cell_type": "markdown",
     "metadata": {},
     "source": [
      "### Calcul de l'erreur sur le maillage grossier"
     ]
    },
    {
     "cell_type": "code",
     "collapsed": false,
     "input": [
      "uex=lambda x,y : sin(pi*x)*sin(pi*y)\n",
      "Uex=G.interp(uex)\n",
      "f=lambda x,y : 2*pi**2*sin(pi*x)*sin(pi*y)\n",
      "F=G.interp(f)\n",
      "print \"Resolution Laplacien maillage grossier\"\n",
      "A=Assemblage(G)\n",
      "B=Smb(G,F)\n",
      "# conditions limites\n",
      "for i in range(G.nn):\n",
      "    if G.Frt[i]==2:\n",
      "        A[i,:]=0.; A[:,i]=0.; A[i,i]=1.0;\n",
      "        B[i]=0.0\n",
      "# resolution\n",
      "U=linalg.solve(A,B)\n",
      "print \"solution EF min/max=\",amin(U),amax(U)\n",
      "print \"erreur      min/max=\",amin(Uex-U),amax(Uex-U)\n",
      "print \"norme L2 erreur    =\",sqrt(intL2(G,Uex-U))\n",
      "# tracer\n",
      "plt.figure(figsize=(12,5))\n",
      "plt.subplot(1,2,1)\n",
      "plt.axis('equal'); plt.axis('off')\n",
      "G.isosurf(U,\"Solution EF\")\n",
      "plt.axis([-0.01,1.01,-0.01,1.01])\n",
      "plt.subplot(1,2,2)\n",
      "plt.axis('equal'); plt.axis('off')\n",
      "G.isosurf(Uex-U,\"Erreur\")\n",
      "plt.axis([-0.01,1.01,-0.01,1.01])\n",
      "plt.show()"
     ],
     "language": "python",
     "metadata": {},
     "outputs": [
      {
       "output_type": "stream",
       "stream": "stdout",
       "text": [
        "Resolution Laplacien maillage grossier\n",
        "solution EF min/max= 0.0 0.954630690671\n",
        "erreur      min/max= 0.0 0.0821935405397\n",
        "norme L2 erreur    = 0.0424401712186\n"
       ]
      },
      {
       "metadata": {},
       "output_type": "display_data",
       "png": "[encoded data removed]",
       "text": [
        "<matplotlib.figure.Figure at 0x7f4ebc69e810>"
       ]
      }
     ],
     "prompt_number": 21
    },
    {
     "cell_type": "markdown",
     "metadata": {},
     "source": [
      "### Calcul de l'erreur sur le maillage fin  x4\n",
      "\n",
      "G2 maillage raffin\u00e9e x4, donc avec une taille $h/4$\n",
      "\n",
      "Erreur $\\theta(h^2)$ donc divis\u00e9e par 16."
     ]
    },
    {
     "cell_type": "code",
     "collapsed": false,
     "input": [
      "U2ex=G2.interp(uex)\n",
      "F2=G2.interp(f)\n",
      "print \"Resolution Laplacien maillage fin\"\n",
      "A=Assemblage(G2)\n",
      "B=Smb(G2,F2)\n",
      "# conditions limites\n",
      "for i in range(G2.nn):\n",
      "    if G2.Frt[i]==2:\n",
      "        A[i,:]=0.; A[:,i]=0.; A[i,i]=1.0;\n",
      "        B[i]=0.0\n",
      "# resolution\n",
      "U2=linalg.solve(A,B)\n",
      "print \"solution EF min/max=\",amin(U2),amax(U2)\n",
      "print \"erreur      min/max=\",amin(U2ex-U2),amax(U2ex-U2)\n",
      "print \"norme L2 erreur    =\",sqrt(intL2(G2,U2ex-U2))\n",
      "# tracer\n",
      "plt.figure(figsize=(12,5))\n",
      "plt.subplot(1,2,1)\n",
      "G2.isosurf(U2,\"Solution EF\")\n",
      "plt.axis('equal'); plt.axis('off')\n",
      "plt.axis([-0.01,1.01,-0.01,1.01])\n",
      "plt.subplot(1,2,2)\n",
      "G2.isosurf(U2ex-U2,\"Erreur\")\n",
      "plt.axis('equal'); plt.axis('off')\n",
      "plt.axis([-0.01,1.01,-0.01,1.01])\n",
      "plt.show()"
     ],
     "language": "python",
     "metadata": {},
     "outputs": [
      {
       "output_type": "stream",
       "stream": "stdout",
       "text": [
        "Resolution Laplacien maillage fin\n",
        "solution EF min/max="
       ]
      },
      {
       "output_type": "stream",
       "stream": "stdout",
       "text": [
        " 0.0 1.00256519031\n",
        "erreur      min/max= -0.00256519031222 0.00664067563378\n",
        "norme L2 erreur    = 0.00355403521204\n"
       ]
      },
      {
       "metadata": {},
       "output_type": "display_data",
       "png": "[encoded data removed]",
       "text": [
        "<matplotlib.figure.Figure at 0x7f4ebc76b590>"
       ]
      }
     ],
     "prompt_number": 22
    },
    {
     "cell_type": "heading",
     "level": 2,
     "metadata": {},
     "source": [
      "Evolution de l'erreur"
     ]
    },
    {
     "cell_type": "markdown",
     "metadata": {},
     "source": [
      "On veut v\u00e9rifier que l'erreur d'approximation par \u00e9l\u00e9ments finis $P^1$ varie en $O(h^2)$ en calculant l'erreur pour une serie de maillages de plus en plus raffin\u00e9s."
     ]
    },
    {
     "cell_type": "code",
     "collapsed": false,
     "input": [
      "def calculErr(G,nfois):\n",
      "    \"\"\" calcul erreur sur un maillage raffin\u00e9 nfois \"\"\"\n",
      "    # maillage\n",
      "    G2=G.raffine()\n",
      "    for k in range(nfois-1):\n",
      "        G2=G2.raffine()\n",
      "    # calcul solution\n",
      "    U2ex = G2.interp(uex)\n",
      "    F2   = G2.interp(f)\n",
      "    A=Assemblage(G2)\n",
      "    B=Smb(G2,F2)\n",
      "    # conditions limites\n",
      "    for i in range(G2.nn):\n",
      "        if G2.Frt[i]==2:\n",
      "            A[i,:]=0.; A[:,i]=0.; A[i,i]=1.0;\n",
      "            B[i]=0.0\n",
      "    # resolution\n",
      "    U2=linalg.solve(A,B)\n",
      "    Err2=abs(U2ex-U2)\n",
      "    ErrMax=amax(Err2)\n",
      "    ErrL2=sqrt(intL2(G2,Err2))\n",
      "    print \"solution EF min/max=\",amin(U2),amax(U2)\n",
      "    print \"erreur      min/max=\",ErrMax\n",
      "    print \"norme L2 erreur    =\",ErrL2\n",
      "    return ErrMax,ErrL2"
     ],
     "language": "python",
     "metadata": {},
     "outputs": [],
     "prompt_number": 23
    },
    {
     "cell_type": "code",
     "collapsed": false,
     "input": [
      "h0=1./4.  # h maillage initial\n",
      "N=4       # nbre de raffinement\n",
      "H = array([h0/2**(n+1) for n in range(N)])\n",
      "ErrL2=zeros(N)\n",
      "ErrMax=zeros(N)\n",
      "for n in range(N):\n",
      "    print \"niveau de raffinement \",n+1\n",
      "    ErrMax[n],ErrL2[n]=calculErr(G,n+1)"
     ],
     "language": "python",
     "metadata": {},
     "outputs": [
      {
       "output_type": "stream",
       "stream": "stdout",
       "text": [
        "niveau de raffinement  1\n",
        "solution EF min/max= 0.0 0.998536781992\n",
        "erreur      min/max= 0.0247157265808\n",
        "norme L2 erreur    = 0.0132945289118\n",
        "niveau de raffinement  2\n",
        "solution EF min/max="
       ]
      },
      {
       "output_type": "stream",
       "stream": "stdout",
       "text": [
        " 0.0 1.00256519031\n",
        "erreur      min/max= 0.00664067563378\n",
        "norme L2 erreur    = 0.0035698437451\n",
        "niveau de raffinement  3\n",
        "solution EF min/max="
       ]
      },
      {
       "output_type": "stream",
       "stream": "stdout",
       "text": [
        " 0.0 1.00136749681\n",
        "erreur      min/max= 0.00169600290706\n",
        "norme L2 erreur    = 0.00090567422603\n",
        "niveau de raffinement  4\n",
        "solution EF min/max="
       ]
      },
      {
       "output_type": "stream",
       "stream": "stdout",
       "text": [
        " 0.0 1.00052083613\n",
        "erreur      min/max= 0.000520836133893\n",
        "norme L2 erreur    = 0.000227287803884\n"
       ]
      }
     ],
     "prompt_number": 24
    },
    {
     "cell_type": "code",
     "collapsed": false,
     "input": [
      "plt.loglog(H,ErrL2,'-o',label=\"ErrL2\")\n",
      "plt.loglog(H,ErrMax,'-v',label=\"ErrMax\")\n",
      "plt.loglog(H,H*H,'--',label=\"$\\\\theta(h^2)$\")\n",
      "plt.title(\"Erreur EF P1\")\n",
      "plt.legend(loc=0)"
     ],
     "language": "python",
     "metadata": {},
     "outputs": [
      {
       "metadata": {},
       "output_type": "pyout",
       "prompt_number": 25,
       "text": [
        "<matplotlib.legend.Legend at 0x7f4ebc734890>"
       ]
      },
      {
       "metadata": {},
       "output_type": "display_data",
       "png": "[encoded data removed]",
       "text": [
        "<matplotlib.figure.Figure at 0x7f4ebc7a7110>"
       ]
      }
     ],
     "prompt_number": 25
    },
    {
     "cell_type": "heading",
     "level": 1,
     "metadata": {},
     "source": [
      "FIN"
     ]
    },
    {
     "cell_type": "code",
     "collapsed": false,
     "input": [],
     "language": "python",
     "metadata": {},
     "outputs": [],
     "prompt_number": 25
    }
   ],
   "metadata": {}
  }
 ]
}