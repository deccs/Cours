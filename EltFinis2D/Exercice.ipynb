{
 "metadata": {
  "name": "",
  "signature": "sha256:c5dfc1ccb6d278d8e650474f9ae9f3ba6bcc428d6033771727705c4c25bf8e74"
 },
 "nbformat": 3,
 "nbformat_minor": 0,
 "worksheets": [
  {
   "cells": [
    {
     "cell_type": "code",
     "collapsed": false,
     "input": [
      "%matplotlib inline\n",
      "%autosave 300\n",
      "from  numpy import *\n",
      "import matplotlib.pyplot as plt\n",
      "from IPython.core.display import HTML\n",
      "css_file = 'style.css'\n",
      "HTML(open(css_file, \"r\").read())"
     ],
     "language": "python",
     "metadata": {},
     "outputs": [
      {
       "javascript": [
        "IPython.notebook.set_autosave_interval(300000)"
       ],
       "metadata": {},
       "output_type": "display_data"
      },
      {
       "output_type": "stream",
       "stream": "stdout",
       "text": [
        "Autosaving every 300 seconds\n"
       ]
      },
      {
       "html": [
        "<link href='http://fonts.googleapis.com/css?family=Alegreya+Sans:100,300,400,500,700,800,900,100italic,300italic,400italic,500italic,700italic,800italic,900italic' rel='stylesheet' type='text/css'>\n",
        "<link href='http://fonts.googleapis.com/css?family=Arvo:400,700,400italic' rel='stylesheet' type='text/css'>\n",
        "<link href='http://fonts.googleapis.com/css?family=PT+Mono' rel='stylesheet' type='text/css'>\n",
        "<link href='http://fonts.googleapis.com/css?family=Shadows+Into+Light' rel='stylesheet' type='text/css'>\n",
        "<link href='http://fonts.googleapis.com/css?family=Philosopher:400,700,400italic,700italic' rel='stylesheet' type='text/css'>\n",
        "\n",
        "<style>\n",
        "\n",
        "@font-face {\n",
        "    font-family: \"Computer Modern\";\n",
        "    src: url('http://mirrors.ctan.org/fonts/cm-unicode/fonts/otf/cmunss.otf');\n",
        "}\n",
        "\n",
        "#notebook_panel { /* main background */\n",
        "    background: #888;\n",
        "    color: #f6f6f6;\n",
        "}\n",
        "\n",
        "div.cell { /* set cell width to about 80 chars */\n",
        "    width: 800px;\n",
        "}\n",
        "\n",
        "div #notebook { /* centre the content */\n",
        "    background: #fff; /* white background for content */\n",
        "    width: 1000px;\n",
        "    margin: auto;\n",
        "    padding-left: 1em;\n",
        "}\n",
        "\n",
        "#notebook li { /* More space between bullet points */\n",
        "margin-top:0.8em;\n",
        "}\n",
        "\n",
        "/* draw border around running cells */\n",
        "div.cell.border-box-sizing.code_cell.running { \n",
        "    border: 3px solid #111;\n",
        "}\n",
        "\n",
        "/* Put a solid color box around each cell and its output, visually linking them together */\n",
        "div.cell.code_cell {\n",
        "    background-color: rgba(171,165,131,1.0); \n",
        "    border-radius: 10px; /* rounded borders */\n",
        "    padding: 1em;\n",
        "    margin-top: 1em;\n",
        "}\n",
        "\n",
        "div.text_cell_render{\n",
        "    font-family: 'Arvo' sans-serif;\n",
        "    line-height: 130%;\n",
        "    font-size: 115%;\n",
        "    width:700px;\n",
        "    margin-left:auto;\n",
        "    margin-right:auto;\n",
        "}\n",
        "\n",
        "\n",
        "/* Formatting for header cells */\n",
        ".text_cell_render h1 {\n",
        "    font-family: 'Philosopher', sans-serif;\n",
        "    font-weight: 400;\n",
        "    font-size: 40pt;\n",
        "    line-height: 100%;\n",
        "    color: rgb(12,85,97);\n",
        "    margin-bottom: 0.1em;\n",
        "    margin-top: 0.1em;\n",
        "    display: block;\n",
        "}\t\n",
        ".text_cell_render h2 {\n",
        "    font-family: 'Philosopher', serif;\n",
        "    font-weight: 700;\n",
        "    font-size: 24pt;\n",
        "    line-height: 100%;\n",
        "    color: rgb(171,165,131);\n",
        "    margin-bottom: 0.1em;\n",
        "    margin-top: 0.1em;\n",
        "    display: block;\n",
        "}\t\n",
        "\n",
        ".text_cell_render h3 {\n",
        "    font-family: 'Philosopher', serif;\n",
        "    margin-top:12px;\n",
        "    margin-bottom: 3px;\n",
        "    font-style: italic;\n",
        "    color: rgb(95,92,72);\n",
        "}\n",
        "\n",
        ".text_cell_render h4 {\n",
        "    font-family: 'Philosopher', serif;\n",
        "}\n",
        "\n",
        ".text_cell_render h5 {\n",
        "    font-family: 'Alegreya Sans', sans-serif;\n",
        "    font-weight: 300;\n",
        "    font-size: 16pt;\n",
        "    color: grey;\n",
        "    font-style: italic;\n",
        "    margin-bottom: .1em;\n",
        "    margin-top: 0.1em;\n",
        "    display: block;\n",
        "}\n",
        "\n",
        ".text_cell_render h6 {\n",
        "    font-family: 'PT Mono', sans-serif;\n",
        "    font-weight: 300;\n",
        "    font-size: 10pt;\n",
        "    color: grey;\n",
        "    margin-bottom: 1px;\n",
        "    margin-top: 1px;\n",
        "}\n",
        "\n",
        ".CodeMirror{\n",
        "\tfont-family: \"PT Mono\";\n",
        "        font-size: 100%;\n",
        "}\n",
        "\n",
        ".rendered_html code{\n",
        "\tfont-family: 'PT Mono', sans-serif;\n",
        "    \tfont-weight: 300;\n",
        "\tfont-size: 100%;\n",
        "\tcolor: #083F42;\n",
        "\tbackground-color: #FFFFDD;\n",
        "    \tmargin-bottom: 10px;\n",
        "    \tmargin-top: 10px;\n",
        "}\n",
        "</style>\n"
       ],
       "metadata": {},
       "output_type": "pyout",
       "prompt_number": 1,
       "text": [
        "<IPython.core.display.HTML at 0x7f384ccf9350>"
       ]
      }
     ],
     "prompt_number": 1
    },
    {
     "cell_type": "heading",
     "level": 1,
     "metadata": {},
     "source": [
      "Programmation sous Python d'une m\u00e9thode  EF en 2D"
     ]
    },
    {
     "cell_type": "markdown",
     "metadata": {},
     "source": [
      "##1/ Interface FreeFem\n",
      "\n",
      "1. G\u00e9n\u00e9ration d'un maillage d'une ellipse avec FreeFem++\n",
      "        FreeFem++ ellipse.edp\n",
      "\n",
      "2. Lecture d'un fichier de maillage FreeFem\n",
      "\n",
      "\u00e9crire une fonction Python pour lire le maillage FreeFem \u00e0 partir du canvas Python ci-dessous"
     ]
    },
    {
     "cell_type": "code",
     "collapsed": false,
     "input": [
      "# canevas code python pour lire un maillage\n",
      "F = open(\"ellipse.msh\",\"r\")\n",
      "# lecture 1ere ligne\n",
      "L = F.readline()\n",
      "# extraction nbre de nds et nbre d'elements\n",
      "nn = int(L.split()[0])\n",
      "ne = int(L.split()[1])\n",
      "print \"geometrie nn,ne=\",nn,ne\n",
      "# boucle lecture des coordonnees\n",
      "for i in range(nn):\n",
      "    L=F.readline()\n",
      "# et de la table de connexion\n",
      "for k in range(ne):\n",
      "    L=F.readline()\n",
      "F.close()"
     ],
     "language": "python",
     "metadata": {},
     "outputs": [
      {
       "output_type": "stream",
       "stream": "stdout",
       "text": [
        "geometrie nn,ne= 109 176\n"
       ]
      }
     ],
     "prompt_number": 2
    },
    {
     "cell_type": "markdown",
     "metadata": {},
     "source": [
      "##2/ Cr\u00e9ation d'une classe mesh\n",
      "\n",
      "\u00e9crire une classe mesh sous Python \u00e0 partir du canvas ci-dessous"
     ]
    },
    {
     "cell_type": "code",
     "collapsed": false,
     "input": [
      "class mesh(object):\n",
      "    def __init__(self):\n",
      "        \"\"\" structure de la classe \"\"\"\n",
      "        self.nn = 0\n",
      "        self.ne = 0\n",
      "        self.Tbc = None\n",
      "        self.X   = None\n",
      "        self.Frt = None\n",
      "        self.nom = \"\"\n",
      "        return\n",
      "    def info(self):\n",
      "        print \"Maillage \",self.nom,\" nn=\",self.nn,\" ne=\",self.ne\n",
      "        # calcul de la surface\n",
      "        surf=0.\n",
      "        for k in range(ne):\n",
      "            surf += self.aire(k)\n",
      "        print \"Surface =\",surf\n",
      "        return\n",
      "    def lecture(self,nom):\n",
      "        \"\"\" initialisation a partir d'un fichier FreeFem \"\"\"\n",
      "        self.nom=nom\n",
      "        return\n",
      "    def plot(self,front=True):\n",
      "        \"\"\" affiche le maillage \"\"\"\n",
      "        for  l in range(self.ne):\n",
      "            num=zeros((4),dtype=int)\n",
      "            num[0:3]=self.Tbc[l,:]; num[3]=self.Tbc[l,0]\n",
      "            plt.plot(self.X[ix_(num,[0])],self.X[ix_(num,[1])],'g-')\n",
      "        return\n",
      "    def aire(self,l):\n",
      "        \"\"\" calcul l'aire de l'element l\"\"\"\n",
      "        surf=0\n",
      "        return surf\n",
      "    def gradient(self,l):\n",
      "        \"\"\" calcul du gradient dN (3x2) des fonctions de forme de l'elt l \n",
      "            et de sa surface  aire\n",
      "        \"\"\"    \n",
      "        return dN,aire\n",
      "#\n",
      "# test geometrie\n",
      "# ==============\n",
      "G=mesh()\n",
      "G.lecture(\"ellipse.msh\")\n",
      "G.info()"
     ],
     "language": "python",
     "metadata": {},
     "outputs": [
      {
       "output_type": "stream",
       "stream": "stdout",
       "text": [
        "Maillage  ellipse.edp  nn= 0  ne= 0\n",
        "Surface = 0.0\n"
       ]
      }
     ],
     "prompt_number": 3
    },
    {
     "cell_type": "markdown",
     "metadata": {},
     "source": [
      "##3/ r\u00e9solution par \u00e9l\u00e9ments finis\n",
      "\u00c9crire le programme python pour r\u00e9soudre\n",
      "$$ -\\Delta u = 1 \\mbox{ avec }  u_\\Gamma =0 $$\n",
      "mod\u00e9lisant la d\u00e9formation d'une membrane elliptique\n",
      "sur le maillage \u00e9l\u00e9ment finis"
     ]
    },
    {
     "cell_type": "markdown",
     "metadata": {},
     "source": [
      "## 4/ R\u00e9f\u00e9rence\n",
      "\n",
      "- M\u00e9thode des \u00e9l\u00e9ments finis en 2D [Notebook IPython](http://nbviewer.ipython.org/github/mbuffat/Cours/blob/master/EltFinis2D/Laplace2D.ipynb)\n",
      "\n",
      "- Maillage \u00e9l\u00e9ments finis avec FreeFem ++ [Notebook IPython](http://nbviewer.ipython.org/github/mbuffat/Cours/blob/master/Mailleur/maillageEF.ipynb)"
     ]
    },
    {
     "cell_type": "markdown",
     "metadata": {},
     "source": [
      "#Fin"
     ]
    }
   ],
   "metadata": {}
  }
 ]
}