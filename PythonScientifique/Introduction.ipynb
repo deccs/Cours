{
 "metadata": {
  "name": "",
  "signature": "sha256:f1e18b89780e576a4d765114ad8a21d7cf091d6c8d73ba21c04bc25e43db3f84"
 },
 "nbformat": 3,
 "nbformat_minor": 0,
 "worksheets": [
  {
   "cells": [
    {
     "cell_type": "heading",
     "level": 1,
     "metadata": {},
     "source": [
      "Introduction \u00e0 la programmation scientifique"
     ]
    },
    {
     "cell_type": "heading",
     "level": 3,
     "metadata": {},
     "source": [
      "Marc BUFFAT, dpt m\u00e9canique, Universit\u00e9 Claude Bernard Lyon 1"
     ]
    },
    {
     "cell_type": "heading",
     "level": 4,
     "metadata": {},
     "source": [
      "(**) certains exemples tir\u00e9s  du cours [\"Scientific Python Lectures\"](https://github.com/jrjohansson/scientific-python-lectures) by  Robert Johansson"
     ]
    },
    {
     "cell_type": "markdown",
     "metadata": {},
     "source": [
      "<a rel=\"license\" href=\"http://creativecommons.org/licenses/by-nc-sa/2.0/fr/\"><img alt=\"Licence Creative Commons\" style=\"border-width:0;float:right;\" src=\"cc.png\" /></a><br />Mise \u00e0 disposition selon les termes de la <a rel=\"license\" href=\"http://creativecommons.org/licenses/by-nc-sa/2.0/fr/\">Licence Creative Commons <br> Attribution - Pas d\u2019Utilisation Commerciale - Partage dans les M\u00eames Conditions 2.0 France</a>."
     ]
    },
    {
     "cell_type": "code",
     "collapsed": false,
     "input": [
      "%matplotlib inline\n",
      "%autosave 300\n",
      "import numpy as np\n",
      "import scipy as sp\n",
      "import matplotlib.pyplot as plt\n",
      "from matplotlib import rcParams\n",
      "rcParams['font.family'] = 'serif'\n",
      "rcParams['font.size'] = 14\n",
      "from IPython.core.display import HTML\n",
      "from IPython.display import display\n",
      "from matplotlib import animation\n",
      "#from JSAnimation import IPython_display\n",
      "css_file = 'style.css'\n",
      "HTML(open(css_file, \"r\").read())"
     ],
     "language": "python",
     "metadata": {},
     "outputs": [
      {
       "javascript": [
        "IPython.notebook.set_autosave_interval(300000)"
       ],
       "metadata": {},
       "output_type": "display_data"
      },
      {
       "output_type": "stream",
       "stream": "stdout",
       "text": [
        "Autosaving every 300 seconds\n"
       ]
      },
      {
       "html": [
        "<link href='http://fonts.googleapis.com/css?family=Alegreya+Sans:100,300,400,500,700,800,900,100italic,300italic,400italic,500italic,700italic,800italic,900italic' rel='stylesheet' type='text/css'>\n",
        "<link href='http://fonts.googleapis.com/css?family=Arvo:400,700,400italic' rel='stylesheet' type='text/css'>\n",
        "<link href='http://fonts.googleapis.com/css?family=PT+Mono' rel='stylesheet' type='text/css'>\n",
        "<link href='http://fonts.googleapis.com/css?family=Shadows+Into+Light' rel='stylesheet' type='text/css'>\n",
        "<link href='http://fonts.googleapis.com/css?family=Philosopher:400,700,400italic,700italic' rel='stylesheet' type='text/css'>\n",
        "\n",
        "<style>\n",
        "\n",
        "@font-face {\n",
        "    font-family: \"Computer Modern\";\n",
        "    src: url('http://mirrors.ctan.org/fonts/cm-unicode/fonts/otf/cmunss.otf');\n",
        "}\n",
        "\n",
        "#notebook_panel { /* main background */\n",
        "    background: #888;\n",
        "    color: #f6f6f6;\n",
        "}\n",
        "\n",
        "div.cell { /* set cell width to about 80 chars */\n",
        "    width: 1000px;\n",
        "}\n",
        "\n",
        "div #notebook { /* centre the content */\n",
        "    background: #fff; /* white background for content */\n",
        "    width: 1200px;\n",
        "    margin: auto;\n",
        "    padding-left: 1em;\n",
        "}\n",
        "\n",
        "#notebook li { /* More space between bullet points */\n",
        "margin-top:0.8em;\n",
        "}\n",
        "\n",
        "/* draw border around running cells */\n",
        "div.cell.border-box-sizing.code_cell.running { \n",
        "    border: 3px solid #111;\n",
        "}\n",
        "\n",
        "/* Put a solid color box around each cell and its output, visually linking them together */\n",
        "div.cell.code_cell {\n",
        "    background-color: rgba(171,165,131,1.0); \n",
        "    border-radius: 10px; /* rounded borders */\n",
        "    padding: 1em;\n",
        "    margin-top: 1em;\n",
        "}\n",
        "\n",
        "div.text_cell_render{\n",
        "    font-family: 'Arvo' sans-serif;\n",
        "    line-height: 130%;\n",
        "    font-size: 115%;\n",
        "    width:700px;\n",
        "    margin-left:auto;\n",
        "    margin-right:auto;\n",
        "}\n",
        "\n",
        "\n",
        "/* Formatting for header cells */\n",
        ".text_cell_render h1 {\n",
        "    font-family: 'Philosopher', sans-serif;\n",
        "    font-weight: 400;\n",
        "    font-size: 40pt;\n",
        "    line-height: 100%;\n",
        "    color: rgb(12,85,97);\n",
        "    margin-bottom: 0.1em;\n",
        "    margin-top: 0.1em;\n",
        "    display: block;\n",
        "}\t\n",
        ".text_cell_render h2 {\n",
        "    font-family: 'Philosopher', serif;\n",
        "    font-weight: 700;\n",
        "    font-size: 24pt;\n",
        "    line-height: 100%;\n",
        "    color: rgb(171,165,131);\n",
        "    margin-bottom: 0.1em;\n",
        "    margin-top: 0.1em;\n",
        "    display: block;\n",
        "}\t\n",
        "\n",
        ".text_cell_render h3 {\n",
        "    font-family: 'Philosopher', serif;\n",
        "    margin-top:12px;\n",
        "    margin-bottom: 3px;\n",
        "    font-style: italic;\n",
        "    color: rgb(95,92,72);\n",
        "}\n",
        "\n",
        ".text_cell_render h4 {\n",
        "    font-family: 'Philosopher', serif;\n",
        "}\n",
        "\n",
        ".text_cell_render h5 {\n",
        "    font-family: 'Alegreya Sans', sans-serif;\n",
        "    font-weight: 300;\n",
        "    font-size: 16pt;\n",
        "    color: grey;\n",
        "    font-style: italic;\n",
        "    margin-bottom: .1em;\n",
        "    margin-top: 0.1em;\n",
        "    display: block;\n",
        "}\n",
        "\n",
        ".text_cell_render h6 {\n",
        "    font-family: 'PT Mono', sans-serif;\n",
        "    font-weight: 300;\n",
        "    font-size: 10pt;\n",
        "    color: grey;\n",
        "    margin-bottom: 1px;\n",
        "    margin-top: 1px;\n",
        "}\n",
        "\n",
        ".CodeMirror{\n",
        "\tfont-family: \"PT Mono\";\n",
        "        font-size: 100%;\n",
        "}\n",
        "\n",
        ".rendered_html code{\n",
        "\tfont-family: 'PT Mono', sans-serif;\n",
        "    \tfont-weight: 300;\n",
        "\tfont-size: 100%;\n",
        "\tcolor: #083F42;\n",
        "\tbackground-color: #FFFFDD;\n",
        "    \tmargin-bottom: 10px;\n",
        "    \tmargin-top: 10px;\n",
        "}\n",
        "</style>\n"
       ],
       "metadata": {},
       "output_type": "pyout",
       "prompt_number": 1,
       "text": [
        "<IPython.core.display.HTML at 0x7fa885112690>"
       ]
      }
     ],
     "prompt_number": 1
    },
    {
     "cell_type": "heading",
     "level": 2,
     "metadata": {},
     "source": [
      "Exigences du calcul scientifique"
     ]
    },
    {
     "cell_type": "heading",
     "level": 3,
     "metadata": {},
     "source": [
      "\"Le logiciel (software) est une des pierres angulaires de la science moderne. Sans logiciel,  la science du vingt et uni\u00e8me si\u00e8cle serait impossible. Mais sans de meilleurs logiciels, la science ne peut pas progresser\" \n",
      "[http://sciencecodemanifesto.org/]"
     ]
    },
    {
     "cell_type": "markdown",
     "metadata": {},
     "source": [
      "** R\u00e9plicabilit\u00e9 et de reproductibilit\u00e9 ** sont des pierres angulaires de la m\u00e9thode scientifique. En ce qui concerne le travail num\u00e9rique, se conformer \u00e0 ces concepts a des implications pratiques suivantes:\n",
      "\n",
      "* **R\u00e9plicable:** L'auteur d'un article scientifique qui implique des calculs num\u00e9riques doit \u00eatre en mesure de relancer les simulations et de reproduire les r\u00e9sultats sur demande. D'autres scientifiques devraient \u00e9galement \u00eatre en mesure d'effectuer les m\u00eames calculs et d'obtenir les m\u00eames r\u00e9sultats, compte tenu des informations sur les m\u00e9thodes utilis\u00e9es dans une publication.\n",
      "\n",
      "* **Reproductible:** Les r\u00e9sultats obtenus \u00e0 partir de simulations num\u00e9riques doivent \u00eatre reproductibles avec une mise en oeuvre ind\u00e9pendante du proc\u00e9d\u00e9, ou en utilisant un proc\u00e9d\u00e9 tout \u00e0 fait diff\u00e9rent.\n",
      "\n",
      "En r\u00e9sum\u00e9: un r\u00e9sultat scientifique solide doit \u00eatre reproductible, et une \u00e9tude scientifique solide doit \u00eatre r\u00e9plicable.\n",
      "\n",
      " * importance de la **documentation**\n",
      " * importance de la **validation**\n",
      " * importance de la **ma\u00eetrise** des transformations des donn\u00e9es (logiciels libres)\n",
      " * importance de la **gestion de version** pour les programmes (git)"
     ]
    },
    {
     "cell_type": "heading",
     "level": 2,
     "metadata": {},
     "source": [
      "Environnement de programmation"
     ]
    },
    {
     "cell_type": "markdown",
     "metadata": {},
     "source": [
      "###Syst\u00e8me d'exploitation\n",
      "<img src=\"images/gnu-linux.jpg\" width=\"400\">\n",
      "\n",
      "**Linux** (Linus Torwald + Unix) syst\u00e8me d'exploitation Unix + GNU libre et ouvert\n",
      "\n",
      "Syst\u00e8me d'exploitation (OS) = gestion d'un ordinateur + environement\n",
      "\n",
      "*Unix* = vue abstraite et g\u00e9n\u00e9rique ind\u00e9pendante du mat\u00e9riel\n",
      "\n",
      "``programmes + donn\u00e9es``\n",
      "\n",
      "* programme = processus\n",
      "* donn\u00e9es = fichiers (files, devices, streams)\n",
      "* gestion des droits: notion d'utilisateur (user), groupes (group), autres (other)\n",
      "* super-utilisateur: root\n",
      "\n",
      "``Principes``\n",
      "\n",
      "* small is beautiful\n",
      "* generality is better than specificity\n",
      "* communication is important (format ouvert pour les donn\u00e9es)"
     ]
    },
    {
     "cell_type": "markdown",
     "metadata": {},
     "source": [
      "### Processus\n",
      "\n",
      "* pid = num\u00e9ro du processus\n",
      "* programme (utilisateur ou commande syst\u00e8me)\n",
      "* E/S: entr\u00e9e par d\u00e9faut (input stream=**stdin**), sortie par d\u00e9faut (output stream=**stdout**)\n",
      "* sortie programme = entr\u00e9e d'un autre programme : pipe ou **|**\n",
      " * pge 1 | pge 2 | pge 3\n",
      "* controle des processus: **kill** pid ou ctrl+C, stop (ctrl+Z) , tache de fond (bg) , **ps**, **top**\n",
      "* \u00e9xecution des commandes \u00e0 travers une interface\n",
      "  * un terminal avec un shell (interp\u00e9rteur de commande): bash (avec auto-compl\u00e9tion)\n",
      "  * un GUI (gnome, KDE, ..)\n",
      "* syntaxe (attention majuscule # minuscule, espace = s\u00e9parateur d'arguemnts)\n",
      "  \n",
      "  ``cde [-options] arguments``"
     ]
    },
    {
     "cell_type": "code",
     "collapsed": false,
     "input": [
      "%%bash\n",
      "ps -au buffat | tail -10"
     ],
     "language": "python",
     "metadata": {},
     "outputs": []
    },
    {
     "cell_type": "markdown",
     "metadata": {},
     "source": [
      "### Syst\u00e8me de fichiers Unix\n",
      "* vu arborescente abstraite ind\u00e9pendante du mat\u00e9riel \u00e0 partir de **/**\n",
      "<img src=\"images/unixFile.gif\" width=\"400\">\n",
      "\n",
      "* notation\n",
      "  * fichier = nom de fichier + r\u00e9pertoire + droits d'acc\u00e9s\n",
      "  * **/** s\u00e9parateur de r\u00e9pertoire (directory)\n",
      "  * **.** r\u00e9p\u00e9rtoire courant\n",
      "  * **..** r\u00e9p\u00e9rtoire parent\n",
      "  * **pwd** : affiche r\u00e9pertoire courant\n",
      "  * lien symbolique\n",
      "  * fichiers cach\u00e9s: commence par **.**\n",
      "\n",
      "* principales commandes\n",
      "  * **ls**    : liste des fichiers\n",
      "  * **mkdir** : creation r\u00e9pertoire\n",
      "  * **rm**   : efface un fichier\n",
      "  * **cd**    : change de r\u00e9pertoire (directory)\n",
      "  * **help** cde : aide\n",
      "  * **cat** file : affiche le contenu du fichier"
     ]
    },
    {
     "cell_type": "code",
     "collapsed": false,
     "input": [
      "%%bash\n",
      "ls -al"
     ],
     "language": "python",
     "metadata": {},
     "outputs": []
    },
    {
     "cell_type": "heading",
     "level": 2,
     "metadata": {},
     "source": [
      "Langages de programmation"
     ]
    },
    {
     "cell_type": "markdown",
     "metadata": {},
     "source": [
      "### Calcul de la somme d'une s\u00e9rie\n",
      "$$ S = x - \\frac{x^2}{2} + \\frac{x^3}{3} + .. = \\sum_{i=1}^n (-1)^{i+1} x^i/i $$\n",
      "\n",
      "### Algorithme basique\n",
      "\n",
      "    Algorithme Serie(x,n)\n",
      "       somme = 0\n",
      "       pour i de 1 a n\n",
      "          somme = somme + (-1)^(i+1)*x^i/i\n",
      "       retour somme\n",
      "\n",
      "### Algorithme plus efficace\n",
      "$$ (-1)^{i+1} \\frac{x^i}{i}  = - \\frac{x}{i} (-1)^{i} x^{i-1} $$"
     ]
    },
    {
     "cell_type": "markdown",
     "metadata": {},
     "source": [
      "### Langage machine\n",
      "\n",
      "* suite d'instruction binaire executer par le processeur: 01010111  (suite 0 ou 1 : bits)\n",
      "* repr\u00e9sentation en hexad\u00e9cimal (octet ou bytes): \n",
      "  * **f8 = 248**\n",
      "* instructions et donn\u00e9es sont stock\u00e9es en m\u00e9moire (\u00e0 une adresse donn\u00e9e) \n",
      "  * @000141  instruction f8 \n",
      "* sp\u00e9cifiques au processeur (intel, ARM, power, AMD, ..)\n",
      "* sp\u00e9cifique au syst\u00e8me d'exploitation OS"
     ]
    },
    {
     "cell_type": "code",
     "collapsed": false,
     "input": [
      "%%bash\n",
      "od -x -N 100 a.out\n",
      "./a.out"
     ],
     "language": "python",
     "metadata": {},
     "outputs": []
    },
    {
     "cell_type": "markdown",
     "metadata": {},
     "source": [
      "### Langage assembleur\n",
      "\n",
      "* notation des instructions machines (move, push, load, add, mul)\n",
      "* programme + assembleur = code machine\n"
     ]
    },
    {
     "cell_type": "code",
     "collapsed": false,
     "input": [
      "%%bash\n",
      "head -20 serie.s"
     ],
     "language": "python",
     "metadata": {},
     "outputs": []
    },
    {
     "cell_type": "markdown",
     "metadata": {},
     "source": [
      "### Langage compil\u00e9\n",
      "\n",
      "* C++ Fortran C\n",
      "* programme source + compilateur = programme binaire\n",
      "* programme source = portable\n",
      "* programme binaire = sp\u00e9cifique \u00e0 l'ordinateur (non portable)"
     ]
    },
    {
     "cell_type": "code",
     "collapsed": false,
     "input": [
      "%load serie.C"
     ],
     "language": "python",
     "metadata": {},
     "outputs": []
    },
    {
     "cell_type": "code",
     "collapsed": false,
     "input": [
      "#include <stdlib.h>\n",
      "#include <math.h>\n",
      "#include <iostream>\n",
      "//\n",
      "// calcul de la somme de n termes de la serie x-x^2/2+x^3/3-\n",
      "//\n",
      "double serie(double x,int n)\n",
      "{\n",
      "\tdouble coef=x;\n",
      "\tdouble somme=0.0;\n",
      "\tfor (int i=1; i<=n; i++)\n",
      "\t{\n",
      "\t\tsomme = somme + coef/i;\n",
      "\t\tcoef = -coef*x;\n",
      "\t}\n",
      "\treturn somme;\n",
      "}\n",
      "//\n",
      "int main(int argc,char *argv[])\n",
      "{\n",
      "\tint n=20;\n",
      "\tdouble x=0.2;\n",
      "\tstd::cout<<\"Calcul de la serie pour n=\"<<n<<\" et x=\"<<x<<std::endl;\n",
      "\tstd::cout<<\"Somme   = \"<<serie(x,n)<<std::endl;\n",
      "\tstd::cout<<\"Log(1+x)= \"<<log(1+x)<<std::endl;\n",
      "\treturn 0;\n",
      "}\n",
      "\n"
     ],
     "language": "python",
     "metadata": {},
     "outputs": []
    },
    {
     "cell_type": "code",
     "collapsed": false,
     "input": [
      "#include <stdlib.h>\n",
      "#include <math.h>\n",
      "#include <iostream>\n",
      "//\n",
      "// calcul de la somme de n termes de la serie x-x^2/2+x^3/3-\n",
      "//\n",
      "double serie(double x,int n)\n",
      "{\n",
      "\tdouble coef=x;\n",
      "\tdouble somme=0.0;\n",
      "\tfor (int i=1; i<=n; i++)\n",
      "\t{\n",
      "\t\tsomme = somme + coef/i;\n",
      "\t\tcoef = -coef*x;\n",
      "\t}\n",
      "\treturn somme;\n",
      "}\n",
      "//\n",
      "int main(int argc,char *argv[])\n",
      "{\n",
      "\tint n=20;\n",
      "\tdouble x=0.2;\n",
      "\tstd::cout<<\"Calcul de la serie pour n=\"<<n<<\" et x=\"<<x<<std::endl;\n",
      "\tstd::cout<<\"Somme   = \"<<serie(x,n)<<std::endl;\n",
      "\tstd::cout<<\"Log(1+x)= \"<<log(1+x)<<std::endl;\n",
      "\treturn 0;\n",
      "}\n",
      "\n"
     ],
     "language": "python",
     "metadata": {},
     "outputs": []
    },
    {
     "cell_type": "code",
     "collapsed": false,
     "input": [
      "%%bash\n",
      "g++ serie.C -o serie\n",
      "./serie"
     ],
     "language": "python",
     "metadata": {},
     "outputs": []
    },
    {
     "cell_type": "markdown",
     "metadata": {},
     "source": [
      "### Langage interpr\u00e9t\u00e9\n",
      "\n",
      "* Python, Matlab\n",
      "* programme + interpr\u00e9teur\n",
      "* portable = ind\u00e9pendant du syst\u00e8me (Linux, MacOS, Windows)"
     ]
    },
    {
     "cell_type": "code",
     "collapsed": false,
     "input": [
      "%load serie.py"
     ],
     "language": "python",
     "metadata": {},
     "outputs": []
    },
    {
     "cell_type": "code",
     "collapsed": false,
     "input": [
      "#! /usr/bin/env python\n",
      "from math import log\n",
      "\n",
      "def serie(x,n):\n",
      "    \"\"\" calcul de la somme de n termes de la serie x-x^2/2+x^3/3- \"\"\"\n",
      "    coef=x\n",
      "    somme=0.0\n",
      "    for i in range(1,n+1):\n",
      "        somme = somme + coef/i\n",
      "        coef  = -coef*x\n",
      "    return somme\n",
      "#\n",
      "x=0.2\n",
      "n=20\n",
      "print \"Calcul de la serie pour x=\",x,\" et n=\",n\n",
      "print \"somme    = \",serie(x,n)\n",
      "print \"log(1+x) = \", log(1+x)\n"
     ],
     "language": "python",
     "metadata": {},
     "outputs": []
    },
    {
     "cell_type": "code",
     "collapsed": false,
     "input": [
      "#! /usr/bin/env python\n",
      "from math import log\n",
      "\n",
      "def serie(x,n):\n",
      "    \"\"\" calcul de la somme de n termes de la serie x-x^2/2+x^3/3- \"\"\"\n",
      "    coef=x\n",
      "    somme=0.0\n",
      "    for i in range(1,n+1):\n",
      "        somme = somme + coef/i\n",
      "        coef  = -coef*x\n",
      "    return somme\n",
      "#\n",
      "x=0.2\n",
      "n=20\n",
      "print \"Calcul de la serie pour x=\",x,\" et n=\",n\n",
      "print \"somme    = \",serie(x,n)\n",
      "print \"log(1+x) = \", log(1+x)\n"
     ],
     "language": "python",
     "metadata": {},
     "outputs": []
    },
    {
     "cell_type": "code",
     "collapsed": false,
     "input": [
      "%%bash\n",
      "python serie.py"
     ],
     "language": "python",
     "metadata": {},
     "outputs": []
    },
    {
     "cell_type": "heading",
     "level": 2,
     "metadata": {},
     "source": [
      "Langage Python"
     ]
    },
    {
     "cell_type": "markdown",
     "metadata": {},
     "source": [
      "\n",
      "[Python] (http://www.python.org/) est un langage de programmation moderne de haut niveau, orient\u00e9 objet et d'usage g\u00e9n\u00e9ral.\n",
      "\n",
      "Caract\u00e9ristiques g\u00e9n\u00e9rales de Python:\n",
      "\n",
      "* ** Langage simple: ** facile \u00e0 lire et \u00e0 apprendre avec une syntaxe minimaliste.\n",
      "* ** Langage concis et expressif: ** moins de lignes de code, moins de bugs, plus facile \u00e0 maintenir.\n",
      "\n",
      "D\u00e9tails techniques:\n",
      "\n",
      "* ** Typ\u00e9 dynamiquement: ** Pas besoin de d\u00e9finir le type des variables, les arguments ou le type des fonctions.\n",
      "* ** La gestion automatique de la m\u00e9moire: ** Aucune n\u00e9cessit\u00e9 d'allouer explicitement et d\u00e9sallouer la m\u00e9moire pour les variables et les tableaux de donn\u00e9es. Aucun bug de fuite de m\u00e9moire.\n",
      "* ** Interpr\u00e9t\u00e9: ** Pas besoin de compiler le code. L'interpr\u00e9teur Python lit et ex\u00e9cute le code python directement.\n",
      "\n",
      "### Avantages:\n",
      "\n",
      "* Le principal avantage est la facilit\u00e9 de programmation, qui minimise le temps n\u00e9cessaire pour d\u00e9velopper, d\u00e9boguer et maintenir le code.\n",
      "* Langage bien con\u00e7u qui encouragent les bonnes pratiques de programmation:\n",
      "  * Modulaire et orient\u00e9e objet, permet l'encapsulation  et la r\u00e9utilisation de code. Il en r\u00e9sulte souvent un code plus transparent, maintenable et sans bug.\n",
      "  * Documentation int\u00e9gr\u00e9 avec le code.\n",
      "* De nombreuses biblioth\u00e8ques standards, et de nombreux packages add-on.\n",
      "\n",
      "### Inconv\u00e9nients:\n",
      "\n",
      "* Puisque Python est un langage de programmation interpr\u00e9t\u00e9 et typ\u00e9 dynamiquement, l'ex\u00e9cution de code python peut \u00eatre lent par rapport \u00e0 des langages de programmation compil\u00e9s \u00e0 typage statique, tels que C et Fortran.\n",
      "* Un peu trop d\u00e9centralis\u00e9, avec diff\u00e9rents environnements, biblioth\u00e9ques, et documentation r\u00e9partis \u00e0 diff\u00e9rents endroits. Cela peut le rendre difficile pour commencer.\n"
     ]
    },
    {
     "cell_type": "heading",
     "level": 2,
     "metadata": {},
     "source": [
      "Python en calcul scientifique"
     ]
    },
    {
     "cell_type": "markdown",
     "metadata": {},
     "source": [
      "<img src=\"images/optimizing-what.png\" width=\"600\">\n",
      "\n",
      "* Python est largement utilis\u00e9 en calcul scientifique:\n",
      "     * Large communaut\u00e9 d'utilisateurs, aide et documentation facile \u00e0 trouver.\n",
      "\n",
      "* Large \u00e9cosyst\u00e8me de biblioth\u00e8ques et d'environnement  scientifiques\n",
      "     * Numpy: http://numpy.scipy.org - Numerical Python\n",
      "     * Scipy: http://www.scipy.org - Python Scientifique\n",
      "     * Matplotlib: http://www.matplotlib.org - biblioth\u00e8que graphique\n",
      "\n",
      "* Bonne performance gr\u00e2ce \u00e0 l'utilisation de codes \u00e9prouv\u00e9s et hautement optimis\u00e9s \u00e9crits en C et Fortran:\n",
      "     * Blas, altas blas, lapack, arpack, Intel MKL, ...\n",
      "\n",
      "* Un bon support pour\n",
      "     * Le traitement parall\u00e8le avec les processus et les threads\n",
      "     * Communication parall\u00e8le (MPI)\n",
      "     * GPU computing (OpenCL et CUDA)\n",
      "\n",
      "* Facilement disponible sur les grands centres HPC\n",
      "\n",
      "* Pas de co\u00fbt de licence."
     ]
    },
    {
     "cell_type": "heading",
     "level": 2,
     "metadata": {},
     "source": [
      "Les bonnes pratiques de la programmation"
     ]
    },
    {
     "cell_type": "code",
     "collapsed": false,
     "input": [
      "import this"
     ],
     "language": "python",
     "metadata": {},
     "outputs": []
    },
    {
     "cell_type": "heading",
     "level": 2,
     "metadata": {},
     "source": [
      "Scientific Python software stack "
     ]
    },
    {
     "cell_type": "markdown",
     "metadata": {},
     "source": [
      "<img src=\"images/scientific-python-stack.png\" width=\"300\">"
     ]
    },
    {
     "cell_type": "heading",
     "level": 2,
     "metadata": {},
     "source": [
      "Environnement Python"
     ]
    },
    {
     "cell_type": "markdown",
     "metadata": {},
     "source": [
      "### Interpr\u00e9teur Python\n",
      "\n",
      "La m\u00e9thode standard pour utiliser le langage de programmation Python est d'utiliser l'interpr\u00e9teur Python pour ex\u00e9cuter du code python. L'interpr\u00e9teur Python est un programme qui lire et ex\u00e9cuter le code python dans les fichiers qui lui sont pass\u00e9s comme arguments. \u00c0 l'invite de commande, la commande ``python`` est utilis\u00e9 pour invoquer l'interpr\u00e9teur **Python**. Par exemple pour ex\u00e9cuter un fichier ``mon-programme.py`` qui contient le code python partir de l'invite de commande $, utilisez\n",
      "\n",
      "     buffat@p2chpd-visu2:~$ python mon-programme.py\n",
      "\n",
      "Nous pouvons \u00e9galement commencer l'interpr\u00e8te en tapant simplement `` python`` \u00e0 la ligne de commande, et de mani\u00e8re interactive taper le code Python dans l'interpr\u00e9teur.\n",
      "\n",
      "<img src = \"images/python-screenshot.png\" width = \"600\">\n",
      "\n",
      "On peut aussi utiliser l'interpr\u00e9teur ``IPython``\n",
      "<img src = \"images/ipython-screenshot.png\" width = \"600\">\n",
      "**Ipython** est une version plus ``user-friendly``, qui apporte:\n",
      "\n",
      "* Hystorique des commandes, qui peut \u00eatre consult\u00e9 avec les fl\u00e8ches haut et bas sur le clavier.\n",
      "* Auto-compl\u00e9tion (avec Tab).\n",
      "* Edition de code dans ligne.\n",
      "* Introspection des objets, et extraction automatique des cha\u00eenes de documentation des objets python comme les classes et les fonctions.\n",
      "* Bonne interaction avec le shell et le syst\u00e8me d'exploitation.\n",
      "* Support de calcul parallele (cloud computing).\n"
     ]
    },
    {
     "cell_type": "markdown",
     "metadata": {},
     "source": [
      "### Editeur de texte\n",
      "Pour \u00e9crire des programmes Pythons on utilise un \u00e9diteur de texte, avec coloration syntaxique\n",
      "\n",
      "* **vi** (vim) ou gedit \n",
      "<img src = \"images/vim-screenshot.png\" width = \"600\">"
     ]
    },
    {
     "cell_type": "markdown",
     "metadata": {},
     "source": [
      "### Environnement de d\u00e9veloppement\n",
      "Spyder est un IDE \u00e0 la MATLAB pour python scientifique\n",
      "\n",
      "<img src = \"images/spyder-screenshot.png\" width = \"600\">"
     ]
    },
    {
     "cell_type": "markdown",
     "metadata": {},
     "source": [
      "### Ipython Notebook\n",
      "IPython notebook est un environnement portable sous HTML  pour Python, similaire \u00e0 Mathematica ou maple. Il est bas\u00e9 sur un shell IPython, mais offre un environnement \u00e0 base de cellules avec une grande interactivit\u00e9, o\u00f9 les calculs peuvent \u00eatre organis\u00e9es document\u00e9e de mani\u00e8re structur\u00e9e.\n",
      "\n",
      "<img src = \"images/ipython-notebook-screenshot.png\" width = \"600\">"
     ]
    },
    {
     "cell_type": "heading",
     "level": 2,
     "metadata": {},
     "source": [
      "Installation d'un environnement Python scientifique"
     ]
    },
    {
     "cell_type": "markdown",
     "metadata": {},
     "source": [
      "### Linux\n",
      "sous Ubuntu on utilise le gestionnaire de paquet debian\n",
      "\n",
      "    $ sudo apt-get install python ipython ipython-notebook\n",
      "    \n",
      "    $ sudo apt-get install python-numpy python-scipy python-matplotlib python-sympy\n",
      "    \n",
      "    $ sudo apt-get install spyder"
     ]
    },
    {
     "cell_type": "markdown",
     "metadata": {},
     "source": [
      "### Windows\n",
      "Windows manque d'un bon syst\u00e8me de gestion de packages, de sorte que le moyen le plus facile pour mettre en place un environnement Python est d'installer une distribution pr\u00e9-packag\u00e9e. Quelques bonnes alternatives sont\n",
      "\n",
      " * [Enthought Python Distribution](http://www.enthought.com/products/epd.php). EPD commercial product but  available free for academic use.\n",
      " * [Anaconda CE](http://continuum.io/downloads.html). Anaconda Pro commercial product, but Anaconda Community Edition is free.\n",
      " * [Python(x,y)](http://code.google.com/p/pythonxy/). Fully open source."
     ]
    },
    {
     "cell_type": "heading",
     "level": 2,
     "metadata": {},
     "source": [
      "Documents et sites Web sur Python"
     ]
    },
    {
     "cell_type": "markdown",
     "metadata": {},
     "source": [
      " * [Python](http://www.python.org). The official Python web site.\n",
      " * [Python tutorials](http://docs.python.org/2/tutorial). The official Python tutorials.\n",
      " * [Think Python](http://www.greenteapress.com/thinkpython). ''How to Think Like a Computer Scientist'' by Allen B. Downey (free book).\n",
      " * [MMOC InProS](http://inpros.univ-lyon1.fr) ''Introduction \u00e0 la Programmation Scientifique''\n",
      " \n",
      " <img style=\"float:center; display:inline; width:600px;\" src=\"images/CoursINPROS.png\" />"
     ]
    },
    {
     "cell_type": "heading",
     "level": 2,
     "metadata": {},
     "source": [
      "Version de Python et biblioth\u00e9ques utilis\u00e9es"
     ]
    },
    {
     "cell_type": "code",
     "collapsed": false,
     "input": [
      "print \"\\t\\tSyst\u00e8me utilis\u00e9\"\n",
      "import sys\n",
      "print \"Syst\u00e8me :\\t\\t\",sys.platform\n",
      "import platform\n",
      "print platform.platform()\n",
      "print \"Ordinateur:\\t\\t\",platform.machine()\n",
      "print \"Version de Python:\\t\",sys.version\n",
      "import IPython\n",
      "print \"Version de IPython:\\t\",IPython.__version__\n",
      "import numpy\n",
      "print \"Version de numpy:\\t\",numpy.version.version\n",
      "import scipy\n",
      "print \"Version de scipy:\\t\",scipy.version.version\n",
      "import matplotlib\n",
      "print \"Version de matplotlib:\\t\",matplotlib.__version__"
     ],
     "language": "python",
     "metadata": {},
     "outputs": []
    },
    {
     "cell_type": "heading",
     "level": 2,
     "metadata": {},
     "source": [
      "Fin de la le\u00e7on"
     ]
    }
   ],
   "metadata": {}
  }
 ]
}