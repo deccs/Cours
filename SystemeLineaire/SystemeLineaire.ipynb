{
 "metadata": {
  "name": "",
  "signature": "sha256:e3ff518dc0d8c552f74f216058081f483e581cf0eac6cc4ca4424733fc5b18db"
 },
 "nbformat": 3,
 "nbformat_minor": 0,
 "worksheets": [
  {
   "cells": [
    {
     "cell_type": "code",
     "collapsed": false,
     "input": [
      "%matplotlib inline\n",
      "%autosave 300\n",
      "import numpy as np\n",
      "import scipy as sp\n",
      "import matplotlib.pyplot as plt\n",
      "from IPython.core.display import HTML\n",
      "css_file = 'style.css'\n",
      "HTML(open(css_file, \"r\").read())"
     ],
     "language": "python",
     "metadata": {},
     "outputs": [
      {
       "javascript": [
        "IPython.notebook.set_autosave_interval(300000)"
       ],
       "metadata": {},
       "output_type": "display_data"
      },
      {
       "output_type": "stream",
       "stream": "stdout",
       "text": [
        "Autosaving every 300 seconds\n"
       ]
      },
      {
       "html": [
        "<link href='http://fonts.googleapis.com/css?family=Alegreya+Sans:100,300,400,500,700,800,900,100italic,300italic,400italic,500italic,700italic,800italic,900italic' rel='stylesheet' type='text/css'>\n",
        "<link href='http://fonts.googleapis.com/css?family=Arvo:400,700,400italic' rel='stylesheet' type='text/css'>\n",
        "<link href='http://fonts.googleapis.com/css?family=PT+Mono' rel='stylesheet' type='text/css'>\n",
        "<link href='http://fonts.googleapis.com/css?family=Shadows+Into+Light' rel='stylesheet' type='text/css'>\n",
        "<link href='http://fonts.googleapis.com/css?family=Philosopher:400,700,400italic,700italic' rel='stylesheet' type='text/css'>\n",
        "\n",
        "<style>\n",
        "\n",
        "@font-face {\n",
        "    font-family: \"Computer Modern\";\n",
        "    src: url('http://mirrors.ctan.org/fonts/cm-unicode/fonts/otf/cmunss.otf');\n",
        "}\n",
        "\n",
        "#notebook_panel { /* main background */\n",
        "    background: #888;\n",
        "    color: #f6f6f6;\n",
        "}\n",
        "\n",
        "div.cell { /* set cell width to about 80 chars */\n",
        "    width: 800px;\n",
        "}\n",
        "\n",
        "div #notebook { /* centre the content */\n",
        "    background: #fff; /* white background for content */\n",
        "    width: 1000px;\n",
        "    margin: auto;\n",
        "    padding-left: 1em;\n",
        "}\n",
        "\n",
        "#notebook li { /* More space between bullet points */\n",
        "margin-top:0.8em;\n",
        "}\n",
        "\n",
        "/* draw border around running cells */\n",
        "div.cell.border-box-sizing.code_cell.running { \n",
        "    border: 3px solid #111;\n",
        "}\n",
        "\n",
        "/* Put a solid color box around each cell and its output, visually linking them together */\n",
        "div.cell.code_cell {\n",
        "    background-color: rgba(171,165,131,1.0); \n",
        "    border-radius: 10px; /* rounded borders */\n",
        "    padding: 1em;\n",
        "    margin-top: 1em;\n",
        "}\n",
        "\n",
        "div.text_cell_render{\n",
        "    font-family: 'Arvo' sans-serif;\n",
        "    line-height: 130%;\n",
        "    font-size: 115%;\n",
        "    width:700px;\n",
        "    margin-left:auto;\n",
        "    margin-right:auto;\n",
        "}\n",
        "\n",
        "\n",
        "/* Formatting for header cells */\n",
        ".text_cell_render h1 {\n",
        "    font-family: 'Philosopher', sans-serif;\n",
        "    font-weight: 400;\n",
        "    font-size: 40pt;\n",
        "    line-height: 100%;\n",
        "    color: rgb(12,85,97);\n",
        "    margin-bottom: 0.1em;\n",
        "    margin-top: 0.1em;\n",
        "    display: block;\n",
        "}\t\n",
        ".text_cell_render h2 {\n",
        "    font-family: 'Philosopher', serif;\n",
        "    font-weight: 700;\n",
        "    font-size: 24pt;\n",
        "    line-height: 100%;\n",
        "    color: rgb(171,165,131);\n",
        "    margin-bottom: 0.1em;\n",
        "    margin-top: 0.1em;\n",
        "    display: block;\n",
        "}\t\n",
        "\n",
        ".text_cell_render h3 {\n",
        "    font-family: 'Philosopher', serif;\n",
        "    margin-top:12px;\n",
        "    margin-bottom: 3px;\n",
        "    font-style: italic;\n",
        "    color: rgb(95,92,72);\n",
        "}\n",
        "\n",
        ".text_cell_render h4 {\n",
        "    font-family: 'Philosopher', serif;\n",
        "}\n",
        "\n",
        ".text_cell_render h5 {\n",
        "    font-family: 'Alegreya Sans', sans-serif;\n",
        "    font-weight: 300;\n",
        "    font-size: 16pt;\n",
        "    color: grey;\n",
        "    font-style: italic;\n",
        "    margin-bottom: .1em;\n",
        "    margin-top: 0.1em;\n",
        "    display: block;\n",
        "}\n",
        "\n",
        ".text_cell_render h6 {\n",
        "    font-family: 'PT Mono', sans-serif;\n",
        "    font-weight: 300;\n",
        "    font-size: 10pt;\n",
        "    color: grey;\n",
        "    margin-bottom: 1px;\n",
        "    margin-top: 1px;\n",
        "}\n",
        "\n",
        ".CodeMirror{\n",
        "\tfont-family: \"PT Mono\";\n",
        "        font-size: 100%;\n",
        "}\n",
        "\n",
        ".rendered_html code{\n",
        "\tfont-family: 'PT Mono', sans-serif;\n",
        "    \tfont-weight: 300;\n",
        "\tfont-size: 100%;\n",
        "\tcolor: #083F42;\n",
        "\tbackground-color: #FFFFDD;\n",
        "    \tmargin-bottom: 10px;\n",
        "    \tmargin-top: 10px;\n",
        "}\n",
        "</style>\n"
       ],
       "metadata": {},
       "output_type": "pyout",
       "prompt_number": 49,
       "text": [
        "<IPython.core.display.HTML at 0x7f106574c050>"
       ]
      },
      {
       "output_type": "stream",
       "stream": "stdout",
       "text": [
        "\n"
       ]
      }
     ],
     "prompt_number": 49
    },
    {
     "cell_type": "heading",
     "level": 1,
     "metadata": {},
     "source": [
      "R\u00e9solution de grands syst\u00e8mes lin\u00e9aires"
     ]
    },
    {
     "cell_type": "heading",
     "level": 3,
     "metadata": {},
     "source": [
      "Marc BUFFAT, dpt m\u00e9canique, Universit\u00e9 Claude Bernard Lyon 1"
     ]
    },
    {
     "cell_type": "heading",
     "level": 6,
     "metadata": {},
     "source": [
      "<a rel=\"license\" href=\"http://creativecommons.org/licenses/by-nc-sa/2.0/fr/\"><img alt=\"Licence Creative Commons\" style=\"border-width:0;float:right;\" src=\"cc.png\" /></a><br />Mise \u00e0 disposition selon les termes de la <a rel=\"license\" href=\"http://creativecommons.org/licenses/by-nc-sa/2.0/fr/\">Licence Creative Commons <br> Attribution - Pas d\u2019Utilisation Commerciale - Partage dans les M\u00eames Conditions 2.0 France</a>."
     ]
    },
    {
     "cell_type": "heading",
     "level": 2,
     "metadata": {},
     "source": [
      "Introduction"
     ]
    },
    {
     "cell_type": "markdown",
     "metadata": {},
     "source": [
      "Consid\u00e9rons l'analyse des flux a\u00e9rodynamiques autour d'un avion en mouvement ; le probl\u00e8me revient \u00e0 d\u00e9terminer en chaque point du milieu et \u00e0 chaque instant, la valeur de param\u00e8tres comme la temp\u00e9rature, la pression, etc. Le ph\u00e9nom\u00e8ne \u00e9tudi\u00e9 peut \u00eatre mod\u00e9lis\u00e9 par les \u00e9quations de Navier-Stokes qui expriment la conservation de la masse, du moment et de l'\u00e9nergie ; en coordonn\u00e9es cart\u00e9siennes, et dans leurs formes compl\u00e8tes, ces \u00e9quations comprennent plus de soixante d\u00e9riv\u00e9es partielles. La r\u00e9solution num\u00e9rique de ces \u00e9quations s'av\u00e8re n\u00e9cessaire dans la mesure o\u00f9 une r\u00e9solution analytique est probl\u00e9matique. La prise en compte des \u00e9quations de Navier-Stokes dans leur totalit\u00e9 conduirait \u00e0 des maillages comprenant de $10^{12}$ \u00e0 $10^{15}$ points. Si l'on consid\u00e8re un probl\u00e8me simplifi\u00e9 d\u00e9crit sur un maillage comprenant $10^{7}$ points, avec 20 valeurs attach\u00e9es \u00e0 chaque point (param\u00e8tres du probl\u00e8me, \u00e9l\u00e9ments de g\u00e9om\u00e9trie, r\u00e9sultats interm\u00e9diaires, etc.), le mod\u00e8le discret consid\u00e9r\u00e9 comporte $2\\,10^{8}$ donn\u00e9es; suivant le type de probl\u00e8me, le volume de calculs peut atteindre $10^{13}$ (pour les m\u00e9thodes les plus efficaces) \u00e0 $10^{15}$ op\u00e9rations arithm\u00e9tiques. Pour un ordinateur capable d'ex\u00e9cuter $10^{7}$ op\u00e9rations arithm\u00e9tiques par seconde (10 Mflops), le temps de calcul est de l'ordre de $10^{17}/10^{7}$ secondes, soit environ 278 heures ou encore pr\u00e8s de 12 jours (et jusqu'\u00e0 1200 Jours soit 4 ans).\n",
      "\n",
      "**La majeur partie du temps de calcul est consacr\u00e9e \u00e0 la r\u00e9solution de syst\u00e8me lin\u00e9aire de grande taille de la forme**\n",
      "\n",
      "$$A.X=B\\,\\,\\, X,B\\in\\mathcal{R}^{n}\\,\\,\\,\\, n\\, \\mbox{grand}$$\n",
      " "
     ]
    },
    {
     "cell_type": "heading",
     "level": 1,
     "metadata": {},
     "source": [
      "Solveur lin\u00e9aire directe"
     ]
    },
    {
     "cell_type": "markdown",
     "metadata": {},
     "source": [
      "**probl\u00e8me:** recherche solution $x\\in\\mathbb{R}^{n}\\,\\,\\,\\,/\\,\\, Ax=b$$\n",
      " \n",
      "M\u00e9thode de Cramer\n",
      "\n",
      "$$x=A^{-1}b\\,\\,\\,\\,\\mbox{ avec }\\, A^{-1}=\\frac{1}{det(A)}adjoint(A)$$\n",
      " \n",
      " <h3> Questions ? </h3>\n",
      " \n",
      " - <h4>Co\u00fbt Algorithme:</h4>\n",
      "\n",
      "    - Formule de Cramer $x=A^{-1}b$ $\\leadsto$ $\\theta(n!n^{2})$ op\u00e9rations \n",
      "    - Algorithme fini exact $\\leadsto$ m\u00e9thode de GAUSS $\\theta(n^3)$ op\u00e9rations\n",
      "\n",
      "- <h4>Conditionnement d'une matrice (propagation des erreurs)</h4>\n",
      "\n",
      "- <h4>Propri\u00e9t\u00e9s d'une matrice</h4>\n",
      "    - matrice r\u00e9elle sym\u00e9trique $A=^{t}A$ (diagonalisable)\n",
      "    - matrice hermitienne (auto-adjointe) $A=^{t}\\overline{A}$\n",
      "    - matrice bande\n",
      "  \n",
      "- <h4>Biblioth\u00e8ques</h4>\n",
      "    - Maple: linsolve, LinearSolve, ..  \n",
      "    - Matlab: x=A\\B, inv , lu\n",
      "    - Python: solve, inv, chol, lu ...\n",
      "    - Comsol:  UMFPACK, SPOOLES, CHOLESKY (TAUCS)"
     ]
    },
    {
     "cell_type": "code",
     "collapsed": false,
     "input": [
      "import numpy as np\n",
      "from numpy.linalg import det,inv,norm\n",
      "from numpy.random import rand\n",
      "n=20\n",
      "A=rand(n,n)\n",
      "X=rand(n)\n",
      "B=np.dot(A,X)\n",
      "print \"det A=\",det(A),\" norm X=\",norm(X)"
     ],
     "language": "python",
     "metadata": {},
     "outputs": [
      {
       "output_type": "stream",
       "stream": "stdout",
       "text": [
        "det A= -0.0216161019189  norm X= 2.61885808302\n"
       ]
      }
     ],
     "prompt_number": 50
    },
    {
     "cell_type": "markdown",
     "metadata": {},
     "source": [
      "### R\u00e9solution par la m\u00e9thode de Cramer"
     ]
    },
    {
     "cell_type": "code",
     "collapsed": false,
     "input": [
      "def cofactor(matrix):\n",
      "    C = np.zeros(matrix.shape)\n",
      "    nrows, ncols = C.shape\n",
      "    for row in xrange(nrows):\n",
      "        for col in xrange(ncols):\n",
      "            minor = matrix[np.array(range(row)+range(row+1,nrows))[:,np.newaxis],\n",
      "                           np.array(range(col)+range(col+1,ncols))]\n",
      "            C[row, col] = (-1)**(row+col) * det(minor)\n",
      "    return C\n",
      "def Cramer(A,B):\n",
      "    invA = cofactor(A).T/det(A)\n",
      "    return np.dot(invA,B)"
     ],
     "language": "python",
     "metadata": {},
     "outputs": [],
     "prompt_number": 51
    },
    {
     "cell_type": "code",
     "collapsed": false,
     "input": [
      "X1=Cramer(A,B)\n",
      "print \"Erreur Cramer \",norm(X-X1)\n",
      "%timeit X1=Cramer(A,B)"
     ],
     "language": "python",
     "metadata": {},
     "outputs": [
      {
       "output_type": "stream",
       "stream": "stdout",
       "text": [
        "Erreur Cramer  1.86209821417e-13\n",
        "10 loops, best of 3: 26.6 ms per loop"
       ]
      },
      {
       "output_type": "stream",
       "stream": "stdout",
       "text": [
        "\n"
       ]
      }
     ],
     "prompt_number": 52
    },
    {
     "cell_type": "markdown",
     "metadata": {},
     "source": [
      "### R\u00e9solution par la m\u00e9thode de Gauss"
     ]
    },
    {
     "cell_type": "markdown",
     "metadata": {},
     "source": [
      "Transformation du syst\u00e8me $A.x=b$ en un syst\u00e8me triangulaire $U.x=d$\n",
      "\n",
      "<h4>Elimination</h4>\n",
      "\n",
      "- Pour k de 1 \u00e0 n-1\n",
      " $$ A^{k+1}.x = b^{k+1} \\equiv Ax=b $$\n",
      " \n",
      "   - \u00e9tape k: \u00e9limination de $A_{ik}$ pour i de k+1 \u00e0 n   \n",
      "  ligne i ($A^{k+1}$) = ligne i ($A^{k}$) - $\\frac{A_{ik}^{k}}{A_{kk}^{k}}$ ligne k ($A^{k}$)\n",
      "  \n",
      "$$\\begin{eqnarray}  \n",
      "  A_{ij}^{k+1}&=&A_{ij}^{k}\\,\\,\\mbox{ pour }i=1,k\\,\\,\\mbox{ et }j=1,n\\\\\n",
      "  A_{ij}^{k+1}&=&0\\,\\,\\mbox{ pour }i=k+1,n\\mbox{ et }j=1,k\\\\\n",
      "  A_{ij}^{k+1}&=&A_{ij}^{k}-\\frac{A_{ik}^{k}}{A_{kk}^{k}}A_{kj}^{k} \\mbox{ pour } i=k+1,n\\,\\,\\mbox{ et }j=k+1,n\n",
      "\\end{eqnarray}\n",
      "$$\n",
      " \n",
      "   - \u00e9tape n : $U = A^n $\n",
      "   \n",
      "<h4>R\u00e9solution syst\u00e8me triangulaire  $U.x=d$</h4>\n",
      "\n",
      "$$U.x=d\\,\\,\\mbox{ avec }\\,\\, U_{ij}=0\\,\\mbox{ si }\\,\\, i>j$$\n",
      "\n",
      "- Pour i de N \u00e0 1 :\n",
      "$$x_{i}=\\frac{d_{i}-\\sum_{j=i+1}^{n}U_{ij}*x_{j}}{U_{ii}}$$\n",
      " \n",
      " <h4> Bibliotheque scipy : </h4>\n",
      "         from scipy import linalg\n",
      "         linalg.solve(A,B,sym_pos=False/True) "
     ]
    },
    {
     "cell_type": "code",
     "collapsed": false,
     "input": [
      "from scipy.linalg import solve\n",
      "X2=solve(A,B)\n",
      "print \"Erreur Gauss\",norm(X-X2)\n",
      "%timeit X2=solve(A,B)"
     ],
     "language": "python",
     "metadata": {},
     "outputs": [
      {
       "output_type": "stream",
       "stream": "stdout",
       "text": [
        "Erreur Gauss 0.0\n",
        "10000 loops, best of 3: 20.8 \u00b5s per loop"
       ]
      },
      {
       "output_type": "stream",
       "stream": "stdout",
       "text": [
        "\n"
       ]
      }
     ],
     "prompt_number": 107
    },
    {
     "cell_type": "markdown",
     "metadata": {},
     "source": [
      "## Cout et efficacit\u00e9"
     ]
    },
    {
     "cell_type": "code",
     "collapsed": false,
     "input": [
      "run \"coutN.py\""
     ],
     "language": "python",
     "metadata": {},
     "outputs": [
      {
       "metadata": {},
       "output_type": "display_data",
       "png": "[encoded data removed]",
       "text": [
        "<matplotlib.figure.Figure at 0x7f10657406d0>"
       ]
      }
     ],
     "prompt_number": 54
    },
    {
     "cell_type": "markdown",
     "metadata": {},
     "source": [
      "## Conditionnement d'une matrice\n",
      "\n",
      "$$ cond(\\mathbf{A}) = \\left\\Vert \\mathbf{A}\\right\\Vert \\left\\Vert \\mathbf{A}^{-1}\\right\\Vert =\\frac{\\lambda_{max}}{\\lambda_{min}} \\ge 1$$\n",
      "\n",
      "- une matrice est bien conditionn\u00e9e si $cond(A)\\simeq 1$\n",
      " \n",
      "### Erreur sur $A x = b $\n",
      "- perturbation du 2nd membre $\\delta b$\n",
      "  $$ \\frac{\\left\\Vert \\delta x\\right\\Vert }{\\left\\Vert x\\right\\Vert }\\leq cond(A)\\frac{\\left\\Vert \\delta b\\right\\Vert }{\\left\\Vert b\\right\\Vert } $$\n",
      " \n",
      "- \u00e9quilibrage de la matrice pour \u00e9viter les erreurs num\u00e9riques\n",
      "- correction de l'erreur par it\u00e9ration successive "
     ]
    },
    {
     "cell_type": "code",
     "collapsed": false,
     "input": [
      "from numpy.linalg import det,norm,cond\n",
      "A=np.array([[10,7,8,7],[7,5,6,5],[8,6,10,9],[7,5,9,10]])\n",
      "print \"matrice A=\\n\",A\n",
      "B=np.array([32,23,33,31])\n",
      "print \"pour B=\",B\n",
      "X=solve(A,B)\n",
      "print \"solution X=\",X\n",
      "BB=np.array([32.1,22.9,33.1,30.9])\n",
      "print \"pour B=\",BB\n",
      "XX=solve(A,BB)\n",
      "print \"solution X=\",XX\n",
      "print\n",
      "print \" dB/B=\",norm(BB-B)/norm(B)\n",
      "print \" dX/X=\",norm(XX-X)/norm(X)\n",
      "print \"det(A)=\",det(A),\" |A|=\",norm(A),\" cond(A)=\",np.linalg.cond(A)"
     ],
     "language": "python",
     "metadata": {},
     "outputs": [
      {
       "output_type": "stream",
       "stream": "stdout",
       "text": [
        "matrice A=\n",
        "[[10  7  8  7]\n",
        " [ 7  5  6  5]\n",
        " [ 8  6 10  9]\n",
        " [ 7  5  9 10]]\n",
        "pour B= [32 23 33 31]\n",
        "solution X= [ 1.  1.  1.  1.]\n",
        "pour B= [ 32.1  22.9  33.1  30.9]\n",
        "solution X= [  9.2 -12.6   4.5  -1.1]\n",
        "\n",
        " dB/B= 0.0033319453119\n",
        " dX/X= 8.19847546804\n",
        "det(A)= 1.0  |A|= 30.5450486986  cond(A)= 2984.09270168\n"
       ]
      }
     ],
     "prompt_number": 116
    },
    {
     "cell_type": "markdown",
     "metadata": {},
     "source": [
      "## M\u00e9thode de Factorisation"
     ]
    },
    {
     "cell_type": "markdown",
     "metadata": {},
     "source": [
      "- Factorisation de Crout : $ A=L.U $\n",
      "\n",
      "  - $U$ matrice triangulaire sup\u00e9rieure.\n",
      "  - $L$ matrice triangulaire inf\u00e9rieure avec diagonale unit\u00e9e\n",
      "  \n",
      "- si $A$ sym\u00e9trique, factorisation Cholesky: $A=L.^{t}L$\n",
      "- int\u00e9r\u00eat: r\u00e9solution de plusieurs syst\u00e8mes avec la m\u00eame matrice $A$\n",
      "\n",
      "### factorisation\n",
      "\n",
      "pour j=1 \u00e0 N \n",
      "$$U_{ij}=A_{ij}-\\sum_{k=1}^{i-1}L_{ik}.U_{k,j}\\,\\,\\mbox{pour }i=1,j$$\n",
      "$$ L_{ij}=\\frac{1}{U_{ii}}(A_{ij}-\\sum_{k=1}^{j-1}L_{ik}.U_{kj}\\,\\,\\mbox{pour }i=j+1,N$$\n",
      "  \n",
      "### r\u00e9solution\n",
      "\n",
      "$$AX=B\\Leftrightarrow L.Y=B\\mbox{ et }U.X=Y$$\n",
      "pour i de 1 \u00e0 N\n",
      "$$Y_{i}=(B_{i}-\\sum_{j=1}^{i-1}L_{ij}.Y_{j})$$\n",
      "pour i de N \u00e0 1\n",
      "$$X_{i}=\\frac{1}{U_{ii}}(Y_{i}-\\sum_{j=i+1}^{N}U_{ij}.X_{j})$$\n",
      " \n",
      "\n",
      "### d\u00e9terminant\n",
      "\n",
      "$$det(A)=det(L)*det(U)=\\prod_{k=1}^{N}U_{kk}$$\n",
      "\n",
      "### biblioth\u00e9que scipy\n",
      "\n",
      "        from scipy import linalg\n",
      "        LU = linalg.lu_factor(A)\n",
      "        X  = linalg.lu_solve(LU,B)\n",
      "        # si A matrice sym\u00e9trique ou hermitienne\n",
      "        Lchol = linalg.chol_factor(A)\n",
      "        X = linalg.chol_solve(Lchol,B)"
     ]
    },
    {
     "cell_type": "code",
     "collapsed": false,
     "input": [
      "from scipy.linalg import lu_factor,lu_solve\n",
      "LU = lu_factor(A)\n",
      "X3 = lu_solve(LU,B)\n",
      "print \"Erreur factorisation LU \",norm(X-X3)\n",
      "%timeit LU = lu_factor(A)\n",
      "%timeit X3 = lu_solve(LU,B)"
     ],
     "language": "python",
     "metadata": {},
     "outputs": [
      {
       "output_type": "stream",
       "stream": "stdout",
       "text": [
        "Erreur factorisation LU  2.38706220344e-14\n",
        "10000 loops, best of 3: 20 \u00b5s per loop"
       ]
      },
      {
       "output_type": "stream",
       "stream": "stdout",
       "text": [
        "\n",
        "10000 loops, best of 3: 25.6 \u00b5s per loop"
       ]
      },
      {
       "output_type": "stream",
       "stream": "stdout",
       "text": [
        "\n"
       ]
      }
     ],
     "prompt_number": 55
    },
    {
     "cell_type": "markdown",
     "metadata": {},
     "source": [
      "## Matrices tridiagonales\n",
      "\n",
      "Consid\u00e9rons la discr\u00e9tisation par DF centr\u00e9es de l'\u00e9quation:\n",
      "$$ -\\frac{d^2 u}{dx^2} = f(x) \\mbox{ avec } u(0)=u(1)=0$$\n",
      "soit\n",
      "$$ \\frac{-u_{i+1}+2 u_i - u_{i-1}}{h^2} ) = f_i $$\n",
      "On obtiens un syst\u00e8me lin\u00e9aire d'ordre n\n",
      "$$ \\mathbf{A} \\, U = F $$\n",
      "\n",
      "\\begin{equation}\n",
      "\\mbox{ avec }\\mathbf{A}=\\begin{vmatrix}\n",
      "+2 & -1 & 0 & \\ldots & \\ldots & \\ldots & \\ldots & \\ldots & \\ldots & 0\\\\\n",
      "-1 & +2 & -1 & 0 &  &  &  &  &  & \\vdots\\\\\n",
      "0 & -1 & +2 & -1 & 0 &  &  &  &  & \\vdots\\\\\n",
      "\\vdots & \\ddots & \\ddots & \\ddots & \\ddots & \\ddots &  & (0) &  & \\vdots\\\\\n",
      "\\vdots &  & 0 & -1 & +2 & -1 & 0 &  &  & \\vdots\\\\\n",
      "\\vdots &  &  & \\ddots & \\ddots & \\ddots & \\ddots & \\ddots &  & \\vdots\\\\\n",
      "\\vdots &  &  &  & \\ddots & -1 & +2 & -1 & 0 & 0\\\\\n",
      "\\vdots &  &  &  &  & \\ddots & -1 & +2 & -1 & 0\\\\\n",
      "\\vdots &  & (0) &  &  &  & \\ddots & -1 & +2 & -1\\\\\n",
      "0 & \\ldots & \\ldots & \\ldots & \\ldots & \\ldots & \\ldots & 0 & -1 & +2\n",
      "\\end{vmatrix}\n",
      "\\end{equation}"
     ]
    },
    {
     "cell_type": "code",
     "collapsed": false,
     "input": [
      "n=1000\n",
      "h=1./(n+1)\n",
      "A=np.zeros((n,n))\n",
      "A[0,0]=2; A[0,1]=-1\n",
      "for i in range(1,n-1):\n",
      "    A[i,i] = 2.0\n",
      "    A[i,i+1] = -1.0\n",
      "    A[i,i-1] = -1.0\n",
      "A[-1,-1]=2; A[-1,-2]=-1\n",
      "A = A/h**2\n",
      "F=ones(n)\n",
      "print \"Taille A=\",n,\" non-zero=\",np.count_nonzero(A)\n",
      "plt.figure(figsize=(8,8))\n",
      "plt.spy(A)\n",
      "plt.show()"
     ],
     "language": "python",
     "metadata": {},
     "outputs": [
      {
       "output_type": "stream",
       "stream": "stdout",
       "text": [
        "Taille A= 1000  non-zero= 2998\n"
       ]
      },
      {
       "metadata": {},
       "output_type": "display_data",
       "png": "[encoded data removed]",
       "text": [
        "<matplotlib.figure.Figure at 0x7f106504fe50>"
       ]
      }
     ],
     "prompt_number": 56
    },
    {
     "cell_type": "code",
     "collapsed": false,
     "input": [
      "U1=solve(A,F)\n",
      "print \"solution avec n=\",len(U1),\"umax=\",amax(U1),\" |u|=\",norm(U1)\n",
      "%timeit U=solve(A,F)"
     ],
     "language": "python",
     "metadata": {},
     "outputs": [
      {
       "output_type": "stream",
       "stream": "stdout",
       "text": [
        "solution avec n= 1000 umax= 0.12499987525  |u|= 2.88819436096\n",
        "10 loops, best of 3: 87.5 ms per loop"
       ]
      },
      {
       "output_type": "stream",
       "stream": "stdout",
       "text": [
        "\n"
       ]
      }
     ],
     "prompt_number": 57
    },
    {
     "cell_type": "markdown",
     "metadata": {},
     "source": [
      "## Algorithme de Thomas\n",
      "\n",
      "\\begin{equation} \n",
      "\\mathbf{A} U = F \\mbox{ avec }\\mathbf{A} = \\begin{vmatrix}\n",
      "b_1 & c_1 &     & & 0   \\\\\n",
      "a_2 & b_2 & c_2 & &     \\\\\n",
      "    & a_3 & b_3 & \\ddots & &    \\\\\n",
      "    &     & \\ddots & \\ddots & c_{n-1}  \\\\\n",
      "0   &     &        &  a_{n} & b_{n} \\\\\n",
      "\\end{vmatrix}\n",
      "\\end{equation}\n",
      "\n",
      "###\u00a0Principe \u00e9limination de Gauss\n",
      "\\begin{equation}\n",
      "\\mathbf{M} U = G \\mbox{ avec }\n",
      "\\mathbf{M} = \\begin{vmatrix}\n",
      "1 & d_1 &     & & 0   \\\\\n",
      "0 & 1 & d_2 & &     \\\\\n",
      "    & 0 & 1 & \\ddots & &    \\\\\n",
      "    &     & \\ddots & \\ddots & d_{n-1}  \\\\\n",
      "0   &     &        &  0 & 1 \\\\\n",
      "\\end{vmatrix}\n",
      "\\end{equation}\n",
      "puis r\u00e9solution par un algorithme de remont\u00e9\n",
      "\n",
      "### Algorithme factorisation\n",
      "     d[n] = c[n]/b[n]\n",
      "     g[n] = f[n]/b[n] \n",
      "     pour i de 2 a n\n",
      "         d[i] = c[i]/(b[i]-a[i]*d[i-1])\n",
      "         g[i] = (f[i] - ai*g[i-1])/(b[i]-a[i]*d[i-1])\n",
      "     fin i\n",
      "### Algorithme remont\u00e9e\n",
      "     u[n]=g[n]\n",
      "     pour i de n-1 a 1\n",
      "         u[i] = g[i] - d[i]*u[i+1]\n",
      "         "
     ]
    },
    {
     "cell_type": "code",
     "collapsed": false,
     "input": [
      "def TriDiag(a,b,c,F):\n",
      "    \"\"\" algorithme de Thomas pour r\u00e9soudre A U = F\n",
      "        a,b,c = 3 diagonales de A \n",
      "        F     = second membre \"\"\"\n",
      "    n = len(a)\n",
      "    d = np.zeros(n)\n",
      "    U = np.zeros(n)\n",
      "    beta = b[0]\n",
      "    d[0]=c[0]/beta\n",
      "    U[0]=F[0]/beta;\n",
      "    for j in range(1,n):\n",
      "       beta=(b[j]-a[j]*d[j-1])\n",
      "       d[j]=c[j]/beta\n",
      "       U[j]=(F[j]-a[j]*U[j-1])/beta\n",
      "    for j in range(n-2,-1,-1):\n",
      "       U[j] -= d[j]*U[j+1]\n",
      "    return U"
     ],
     "language": "python",
     "metadata": {},
     "outputs": [],
     "prompt_number": 58
    },
    {
     "cell_type": "code",
     "collapsed": false,
     "input": [
      "A1=ones(n)*(-1./h**2)\n",
      "A2=ones(n)*(+2./h**2)\n",
      "A3=ones(n)*(-1./h**2)\n",
      "print \"Pour n=\",n,\"taille de A =\",size(A)\n",
      "U2=TriDiag(A1,A2,A3,F)\n",
      "print \"solution avec n=\",len(U2),\"umax=\",amax(U2),\" |u|=\",norm(U2)\n",
      "%timeit U2=TriDiag(A1,A2,A3,F)"
     ],
     "language": "python",
     "metadata": {},
     "outputs": [
      {
       "output_type": "stream",
       "stream": "stdout",
       "text": [
        "Pour n= 1000 taille de A = 1000000\n",
        "solution avec n= 1000 umax= 0.12499987525  |u|= 2.88819436096\n",
        "100 loops, best of 3: 3.09 ms per loop"
       ]
      },
      {
       "output_type": "stream",
       "stream": "stdout",
       "text": [
        "\n"
       ]
      }
     ],
     "prompt_number": 59
    },
    {
     "cell_type": "markdown",
     "metadata": {},
     "source": [
      "## Matrices bandes\n",
      "\n"
     ]
    },
    {
     "cell_type": "markdown",
     "metadata": {},
     "source": [
      "\\begin{equation} \n",
      "\\mathbf{A} U = F \\mbox{ avec }\n",
      "\\mathbf{A} = \\begin{vmatrix}\n",
      "a_{00} & a_{01} & a_{02} & 0      & 0  & 0 \\\\\n",
      "a_{10} & a_{11} & a_{12} & a_{13} &  0 & 0   \\\\\n",
      " 0     & a_{21} & a_{22} & a_{23} & a_{24} &  0  \\\\\n",
      " 0     &   0    & a_{32} & a_{33} & a_{34} & a_{35} \\\\\n",
      " 0     &   0    &  0     & a_{43} & a_{44} & a_{45}\\\\\n",
      " 0     &   0    &  0     &  0     & a_{54} & a_{55}\\\\\n",
      "\\end{vmatrix}\n",
      "\\end{equation}\n",
      "\n",
      "stocage bande par diagonales pour une matrice avec u co-diagonales sup\u00e9rieures et l co-diagonales inf\u00e9rieures\n",
      "\n",
      "- Ab[u+i-j,j] = $A_{ij}$   pour j de 0 a n-1 et i de max(j-l,0) a min(j+u,n-1)\n",
      "\n",
      "Ab matrice dimension (u+1+l)xn\n",
      "\n",
      "        *    *  a02 a13 a24 a35\n",
      "        *   a01 a12 a23 a34 a45\n",
      "        a00 a11 a22 a33 a44 a55\n",
      "        a10 a21 a32 a43 a54 *\n",
      "        \n",
      "scipy.linalg.solve_banded"
     ]
    },
    {
     "cell_type": "code",
     "collapsed": false,
     "input": [
      "from scipy.linalg import solve_banded\n",
      "l=1\n",
      "u=1\n",
      "Ab=np.zeros((l+1+u,n))\n",
      "Ab[0,:]=A1\n",
      "Ab[1,:]=A2\n",
      "Ab[2,:]=A3\n",
      "U4=solve_banded((l,u),Ab,F)\n",
      "print \"solution avec n=\",len(U4),\" umax=\",amax(U4),\" |u|=\",norm(U4)\n",
      "%timeit U4=solve_banded((l,u),Ab,F)"
     ],
     "language": "python",
     "metadata": {},
     "outputs": [
      {
       "output_type": "stream",
       "stream": "stdout",
       "text": [
        "solution avec n= 1000  umax= 0.12499987525  |u|= 2.88819436096\n",
        "10000 loops, best of 3: 193 \u00b5s per loop"
       ]
      },
      {
       "output_type": "stream",
       "stream": "stdout",
       "text": [
        "\n"
       ]
      }
     ],
     "prompt_number": 60
    },
    {
     "cell_type": "markdown",
     "metadata": {},
     "source": [
      "### Optimisation en C\n",
      "\n",
      "- \u00e9criture code C tridiag.c, puis compilation en librairie .so\n",
      "\n",
      "- g\u00e9n\u00e9ration d'une interface en Python"
     ]
    },
    {
     "cell_type": "code",
     "collapsed": false,
     "input": [
      "!file libtridiag.so"
     ],
     "language": "python",
     "metadata": {},
     "outputs": [
      {
       "output_type": "stream",
       "stream": "stdout",
       "text": [
        "libtridiag.so: ELF 64-bit LSB  shared object, x86-64, version 1 (SYSV), dynamically linked, BuildID[sha1]=de462c573a9a72d43a100ab55b37ae213310fb16, not stripped\r\n"
       ]
      }
     ],
     "prompt_number": 61
    },
    {
     "cell_type": "code",
     "collapsed": false,
     "input": [
      "%%file tridiag.py\n",
      "import numpy as np\n",
      "import ctypes\n",
      "\n",
      "_libfunctions = np.ctypeslib.load_library('libtridiag', '.')\n",
      "\n",
      "_libfunctions.tridiag.argtypes = [np.ctypeslib.ndpointer(dtype=np.float), \n",
      "                                  np.ctypeslib.ndpointer(dtype=np.float),\n",
      "                                  np.ctypeslib.ndpointer(dtype=np.float),\n",
      "                                  np.ctypeslib.ndpointer(dtype=np.float),\n",
      "                                  np.ctypeslib.ndpointer(dtype=np.float),\n",
      "                                  ctypes.c_int]\n",
      "_libfunctions.tridiag.restype  = ctypes.c_void_p\n",
      "\n",
      "def tridiag(a,b,c,F):\n",
      "    \"\"\" resolution AU=F pour un ematrice A tridiagonale [a,b,c] \"\"\"\n",
      "    a = np.asarray(a, dtype=np.float)\n",
      "    b = np.asarray(b, dtype=np.float)\n",
      "    c = np.asarray(c, dtype=np.float)\n",
      "    F = np.asarray(F, dtype=np.float)\n",
      "    n=len(a)\n",
      "    U = np.empty(len(a), dtype=np.float)\n",
      "    _libfunctions.tridiag(a,b,c,F,U,int(n))\n",
      "    return U"
     ],
     "language": "python",
     "metadata": {},
     "outputs": [
      {
       "output_type": "stream",
       "stream": "stdout",
       "text": [
        "Overwriting tridiag.py\n"
       ]
      }
     ],
     "prompt_number": 62
    },
    {
     "cell_type": "code",
     "collapsed": false,
     "input": [
      "from tridiag import tridiag\n",
      "U5=tridiag(A1,A2,A3,F)\n",
      "print \"solution avec n=\",len(U5),\" umax=\",amax(U5),\" |u|=\",norm(U5)\n",
      "%timeit U5=tridiag(A1,A2,A3,F)"
     ],
     "language": "python",
     "metadata": {},
     "outputs": [
      {
       "output_type": "stream",
       "stream": "stdout",
       "text": [
        "solution avec n= 1000  umax= 0.12499987525  |u|= 2.88819436096\n",
        "10000 loops, best of 3: 56.1 \u00b5s per loop"
       ]
      },
      {
       "output_type": "stream",
       "stream": "stdout",
       "text": [
        "\n"
       ]
      }
     ],
     "prompt_number": 63
    },
    {
     "cell_type": "markdown",
     "metadata": {},
     "source": [
      "### Optimisation avec Cython\n",
      "\n",
      "- Code \u00e9crit en C est-il plus rapide ?\n",
      "\n",
      "- **Attention** d\u00e9claration obligatoire de toutes les variables (meme les compteurs de boucle) pour obtenir de la performance"
     ]
    },
    {
     "cell_type": "code",
     "collapsed": false,
     "input": [
      "%load_ext cythonmagic"
     ],
     "language": "python",
     "metadata": {},
     "outputs": [
      {
       "output_type": "stream",
       "stream": "stdout",
       "text": [
        "The cythonmagic extension is already loaded. To reload it, use:\n",
        "  %reload_ext cythonmagic\n"
       ]
      }
     ],
     "prompt_number": 64
    },
    {
     "cell_type": "code",
     "collapsed": false,
     "input": [
      "%%cython\n",
      "cimport cython\n",
      "import numpy as np\n",
      "cimport numpy as np\n",
      "@cython.boundscheck(False) \n",
      "@cython.wraparound(False)\n",
      "@cython.cdivision(True)\n",
      "cpdef np.ndarray[double, ndim=1] TriDiag_opt(np.ndarray[double,ndim=1] a,\n",
      "                                         np.ndarray[double,ndim=1] b,\n",
      "                                         np.ndarray[double,ndim=1] c, \n",
      "                                         np.ndarray[double,ndim=1] F):\n",
      "    cdef int n = len(a)\n",
      "    cdef np.ndarray[double, ndim=1] d = np.empty(n)\n",
      "    cdef np.ndarray[double, ndim=1] U = np.empty(n)\n",
      "    cdef double beta = b[0]\n",
      "    cdef int j\n",
      "    d[0]=c[0]/beta\n",
      "    U[0]=F[0]/beta;\n",
      "    for j in xrange(1,n):\n",
      "       beta=(b[j]-a[j]*d[j-1])\n",
      "       d[j]=c[j]/beta\n",
      "       U[j]=(F[j]-a[j]*U[j-1])/beta\n",
      "    for j in xrange(n-2,-1,-1):\n",
      "       U[j] -= d[j]*U[j+1]\n",
      "    return U"
     ],
     "language": "python",
     "metadata": {},
     "outputs": [],
     "prompt_number": 65
    },
    {
     "cell_type": "code",
     "collapsed": false,
     "input": [
      "U3=TriDiag_opt(A1,A2,A3,F)\n",
      "print \"solution avec n=\",len(U3),\" umax=\",amax(U3),\" |u|=\",norm(U3)\n",
      "%timeit U3=TriDiag_opt(A1,A2,A3,F)"
     ],
     "language": "python",
     "metadata": {},
     "outputs": [
      {
       "output_type": "stream",
       "stream": "stdout",
       "text": [
        "solution avec n= 1000  umax= 0.12499987525  |u|= 2.88819436096\n",
        "10000 loops, best of 3: 24.3 \u00b5s per loop"
       ]
      },
      {
       "output_type": "stream",
       "stream": "stdout",
       "text": [
        "\n"
       ]
      }
     ],
     "prompt_number": 66
    },
    {
     "cell_type": "markdown",
     "metadata": {},
     "source": [
      "# Matrice creuse\n",
      "Dans beaucoup de probl\u00e8mes en 2D ou 3D, le syst\u00e8me lin\u00e9aire $\\mathbf{A} X = B$\n",
      "correspond \u00e0 une matrice creuse: i.e.\n",
      " - $A_{ij} = 0 $ pour la pluspart des valeurs de (i,j)\n"
     ]
    },
    {
     "cell_type": "markdown",
     "metadata": {},
     "source": [
      "## Probl\u00e8me mod\u00e8le en 2D\n",
      "\n",
      "$$ -\\Delta u = 5\\pi^2 \\sin{2\\pi x} \\sin{\\pi y}  \\mbox{ dans } \\Omega=[0,1]\\times[0,1]$$\n",
      "avec les conditions aux limites $u_\\Gamma = 0$\n",
      "\n",
      "La solution exacte s'\u00e9crit $ u_e(x,y) = \\sin{2\\pi x} \\sin{\\pi y}$\n",
      "\n",
      "### discr\u00e9tisation par DF d'ordre 2\n",
      "<img src=\"schemaLap2D.png\" width=400/>\n",
      "Sur un maillage r\u00e9gulier de $(n+2)^2$ points et de pas $h=1/n$\n",
      "$$ \\frac{4 u_{i,j} - u_{i+1,j} - u_{i-1,j} -u_{i,j+1} -u_{i,j-1}}{h^2} = F_{ij}$$\n",
      "avec $F_{ij} = 5\\pi^2 \\sin{2\\pi ih} \\sin{\\pi jh} $  pour i,j de 0 \u00e0 n\n",
      "\n",
      "Avec une num\u00e9rotation par ligne, le syst\u00e8me lin\u00e9aire s'\u00e9crit sous la forme\n",
      "$$ \\mathbf{A} U = F $$\n",
      "C'est un syst\u00e8me lin\u00e9aire de dimension $n^2 \\times n^2$\n",
      "\\begin{equation}\n",
      "\\mbox{ avec }\n",
      "\\mathbf{A} = \\frac{1}{h^2}\\begin{vmatrix}\n",
      "4 & -1 & 0 & -1 & 0 & 0 & 0 & 0 & 0\\\\\n",
      "-1&  4 & -1 & 0 & -1 & 0 & 0 & 0 & 0\\\\\n",
      "0 & -1 &  4 & 0 & 0 & -1 & 0 & 0 & 0\\\\\n",
      "-1 &  0 & 0 & 4 & -1 & 0 & -1 & 0 & 0\\\\\n",
      "0 &  -1 & 0 & -1 & 4 & -1 & 0 & -1 & 0\\\\\n",
      "0 &  0 & -1 & 0 & -1 & 4 & 0 & 0 & -1\\\\\n",
      "0 &  0 & 0 & -1 & 0 & 0 & 4 & -1 & 0\\\\\n",
      "0 &  0 & 0 & 0 & -1 & 0 & -1 & 4 & -1\\\\\n",
      "0 &  0 & 0 & 0 & 0 & -1 & 0 & -1 & 4\\\\\n",
      "\\end{vmatrix}\n",
      "\\,,\\, U = \\begin{vmatrix}\n",
      "u_{11}\\\\ u_{12}\\\\ u_{13}\\\\\n",
      "u_{21}\\\\ u_{22}\\\\ u_{23}\\\\\n",
      "u_{31}\\\\ u_{32}\\\\ u_{33}\\\\\n",
      "\\end{vmatrix}\n",
      "\\end{equation}"
     ]
    },
    {
     "cell_type": "code",
     "collapsed": false,
     "input": [
      "def MatLap(n):\n",
      "    \"\"\" matrice laplacien 2D DF \"\"\"\n",
      "    A=np.zeros((n*n,n*n))\n",
      "    k=0\n",
      "    for j in range(n):\n",
      "        for i in range(n):\n",
      "            A[k,k]=4.\n",
      "            if i>0    : A[k,k-1]=-1.\n",
      "            if i<(n-1): A[k,k+1]=-1.\n",
      "            if j>0    : A[k,k-n]=-1.\n",
      "            if j<(n-1): A[k,k+n]=-1.\n",
      "            k=k+1\n",
      "    h = 1./(n+1)\n",
      "    A[:,:] *= 1./h**2\n",
      "    return A\n",
      "def Smb2D(n):\n",
      "    \"\"\" calcul 2nd membre \"\"\"\n",
      "    B=np.zeros(n*n)\n",
      "    h=1./(n+1)\n",
      "    k=0\n",
      "    for j in range(n):\n",
      "        for i in range(n):\n",
      "            B[k]=5*np.pi**2*np.sin(2*np.pi*h*(i+1))*np.sin(np.pi*h*(j+1))\n",
      "            k=k+1\n",
      "    return B"
     ],
     "language": "python",
     "metadata": {},
     "outputs": [],
     "prompt_number": 118
    },
    {
     "cell_type": "code",
     "collapsed": false,
     "input": [
      "n=50\n",
      "B=Smb2D(n)\n",
      "Ue=B/(5*np.pi**2)\n",
      "Ue=Ue.reshape((n,n))\n",
      "print \"Ue dim=\",size(Ue),\" min/max=\",np.amin(Ue),np.amax(Ue),\" |Ue|=\",norm(Ue)\n",
      "plt.axis('equal')\n",
      "plt.contourf(Ue)\n",
      "plt.show()"
     ],
     "language": "python",
     "metadata": {},
     "outputs": [
      {
       "output_type": "stream",
       "stream": "stdout",
       "text": [
        "Ue dim= 2500  min/max= -0.999051664369 0.999051664369  |Ue|= 25.5\n"
       ]
      },
      {
       "metadata": {},
       "output_type": "display_data",
       "png": "[encoded data removed]",
       "text": [
        "<matplotlib.figure.Figure at 0x7f1064106090>"
       ]
      }
     ],
     "prompt_number": 68
    },
    {
     "cell_type": "code",
     "collapsed": false,
     "input": [
      "A=MatLap(n)\n",
      "print \"dimension A\",A.shape,\" taille=\",size(A),\" non-zero=\",np.count_nonzero(A)\n",
      "plt.spy(A)\n",
      "plt.show()"
     ],
     "language": "python",
     "metadata": {},
     "outputs": [
      {
       "output_type": "stream",
       "stream": "stdout",
       "text": [
        "dimension A (2500, 2500)  taille= 6250000  non-zero= 12300\n"
       ]
      },
      {
       "metadata": {},
       "output_type": "display_data",
       "png": "[encoded data removed]",
       "text": [
        "<matplotlib.figure.Figure at 0x7f10640f43d0>"
       ]
      }
     ],
     "prompt_number": 69
    },
    {
     "cell_type": "code",
     "collapsed": false,
     "input": [
      "U1 = solve(A,B)\n",
      "U1 = U1.reshape(n,n)\n",
      "print \"Uh dim=\",size(U1),\" min/max\",amin(U1),amax(U1),\" |U|=\",norm(U1)\n",
      "print \"Err=\",norm(U1-Ue)\n",
      "plt.axis('equal')\n",
      "plt.contourf(U1)\n",
      "plt.show()"
     ],
     "language": "python",
     "metadata": {},
     "outputs": [
      {
       "output_type": "stream",
       "stream": "stdout",
       "text": [
        "Uh dim= 2500  min/max -1.0001264007 1.0001264007  |U|= 25.5274317909\n",
        "Err= 0.0274317908828\n"
       ]
      },
      {
       "metadata": {},
       "output_type": "display_data",
       "png": "[encoded data removed]",
       "text": [
        "<matplotlib.figure.Figure at 0x7f10640d2d90>"
       ]
      }
     ],
     "prompt_number": 70
    },
    {
     "cell_type": "code",
     "collapsed": false,
     "input": [
      "%timeit U=solve(A,B)"
     ],
     "language": "python",
     "metadata": {},
     "outputs": [
      {
       "output_type": "stream",
       "stream": "stdout",
       "text": [
        "1 loops, best of 3: 1.28 s per loop\n"
       ]
      }
     ],
     "prompt_number": 71
    },
    {
     "cell_type": "markdown",
     "metadata": {},
     "source": [
      "## Stockage matrice creuse\n",
      "- en 2D $A$ matrice $n^2\\times n^2$\n",
      "- en 3D $A$ matrice $n^3\\times n^3$"
     ]
    },
    {
     "cell_type": "code",
     "collapsed": false,
     "input": [
      "x = np.linspace(0, 1e2, 10)\n",
      "with plt.xkcd():\n",
      "    plt.plot(x, 8.0 * (x**4) / 1e6, lw=2)\n",
      "    plt.xlabel('dimension n') \n",
      "    plt.ylabel('memoire [MB]')\n",
      "    plt.show()"
     ],
     "language": "python",
     "metadata": {},
     "outputs": [
      {
       "metadata": {},
       "output_type": "display_data",
       "png": "[encoded data removed]",
       "text": [
        "<matplotlib.figure.Figure at 0x7f10640da190>"
       ]
      }
     ],
     "prompt_number": 72
    },
    {
     "cell_type": "markdown",
     "metadata": {},
     "source": [
      "### Exemple de matrice en EF (laplacien en 2D)\n",
      "<img src=\"matrixEF.png\" width=400/>"
     ]
    },
    {
     "cell_type": "markdown",
     "metadata": {},
     "source": [
      "Type de stockage dans **scipy.sparse**\n",
      "\n",
      "1. csc_matrix: Compressed Sparse Column format\n",
      "2. csr_matrix: Compressed Sparse Row format\n",
      "3. bsr_matrix: Block Sparse Row format\n",
      "4. lil_matrix: List of Lists format\n",
      "5. dok_matrix: Dictionary of Keys format\n",
      "6. coo_matrix: COOrdinate format (aka IJV, triplet format)\n",
      "7. dia_matrix: DIAgonal format\n",
      "\n",
      "**r\u00e9gles**\n",
      "- on construit la matrice avec le format le mieux adapt\u00e9\n",
      "- on convertit ensuite dans le format CSR (le plus efficace pour la r\u00e9solution)"
     ]
    },
    {
     "cell_type": "markdown",
     "metadata": {},
     "source": [
      "### Format COO (Coordinate format)\n",
      "pour chaque \u00e9l\u00e9ment non nul $A_{ij}$ on stocke la valeur et les 2 indices:\n",
      "\n",
      "- 3 tableaux Numpy: row, col, data\n",
      "- pour un \u00e9l\u00e9ment k non nul: \n",
      "   - data[k] = valeur Aij, \n",
      "   - row[k] = ligne i, \n",
      "   - col[k] = colonne j"
     ]
    },
    {
     "cell_type": "code",
     "collapsed": false,
     "input": [
      "import scipy.sparse as sps\n",
      "def MatCOOLap(n):\n",
      "    \"\"\" matrice laplacien 2D au format COO \"\"\"\n",
      "    h = 1./(n+1)\n",
      "    N=5*n**2 # nbre maxi de coef. non nul\n",
      "    data=np.zeros(N)\n",
      "    col =np.zeros(N,dtype=int)\n",
      "    row =np.zeros(N,dtype=int)\n",
      "    k=0  # numerotation des inconnues\n",
      "    nz=0 # nbre de coeff. non nuls\n",
      "    for j in range(n):\n",
      "        for i in range(n):\n",
      "            data[nz]=4./h**2\n",
      "            row[nz]=k\n",
      "            col[nz]=k\n",
      "            nz=nz+1\n",
      "            if i>0: \n",
      "                data[nz]=-1./h**2\n",
      "                row[nz]=k\n",
      "                col[nz]=k-1\n",
      "                nz=nz+1\n",
      "            if i<(n-1): \n",
      "                data[nz]=-1./h**2\n",
      "                row[nz]=k\n",
      "                col[nz]=k+1\n",
      "                nz=nz+1\n",
      "            if j>0:\n",
      "                data[nz]=-1./h**2\n",
      "                row[nz]=k\n",
      "                col[nz]=k-n\n",
      "                nz=nz+1                \n",
      "            if j<(n-1): \n",
      "                data[nz]=-1./h**2\n",
      "                row[nz]=k\n",
      "                col[nz]=k+n\n",
      "                nz=nz+1\n",
      "            k=k+1\n",
      "    print \"construction de A dim=\",n**4,\" non-zero=\",nz,\" max=\",N\n",
      "    A=sps.coo_matrix((data[:nz],(row[:nz],col[:nz])),shape=(n**2,n**2))\n",
      "    return A"
     ],
     "language": "python",
     "metadata": {},
     "outputs": [],
     "prompt_number": 73
    },
    {
     "cell_type": "code",
     "collapsed": false,
     "input": [
      "n=3\n",
      "Ac=MatCOOLap(n)\n",
      "Ac"
     ],
     "language": "python",
     "metadata": {},
     "outputs": [
      {
       "output_type": "stream",
       "stream": "stdout",
       "text": [
        "construction de A dim= 81  non-zero= 33  max= 45\n"
       ]
      },
      {
       "metadata": {},
       "output_type": "pyout",
       "prompt_number": 74,
       "text": [
        "<9x9 sparse matrix of type '<type 'numpy.float64'>'\n",
        "\twith 33 stored elements in COOrdinate format>"
       ]
      }
     ],
     "prompt_number": 74
    },
    {
     "cell_type": "code",
     "collapsed": false,
     "input": [
      "print \"Donn\u00e9es de Ac\"\n",
      "print \"data=\",Ac.data\n",
      "print \"row=\",Ac.row\n",
      "print \"col=\",Ac.col\n",
      "print \"Ac dim=\",Ac.size,\" dim=\",Ac.shape\n",
      "print Ac.toarray()"
     ],
     "language": "python",
     "metadata": {},
     "outputs": [
      {
       "output_type": "stream",
       "stream": "stdout",
       "text": [
        "Donn\u00e9es de Ac\n",
        "data= [ 64. -16. -16.  64. -16. -16. -16.  64. -16. -16.  64. -16. -16. -16.  64.\n",
        " -16. -16. -16. -16.  64. -16. -16. -16.  64. -16. -16.  64. -16. -16. -16.\n",
        "  64. -16. -16.]\n",
        "row= [0 0 0 1 1 1 1 2 2 2 3 3 3 3 4 4 4 4 4 5 5 5 5 6 6 6 7 7 7 7 8 8 8]\n",
        "col= [0 1 3 1 0 2 4 2 1 5 3 4 0 6 4 3 5 1 7 5 4 2 8 6 7 3 7 6 8 4 8 7 5]\n",
        "Ac dim= 33  dim= (9, 9)\n",
        "[[ 64. -16.   0. -16.   0.   0.   0.   0.   0.]\n",
        " [-16.  64. -16.   0. -16.   0.   0.   0.   0.]\n",
        " [  0. -16.  64.   0.   0. -16.   0.   0.   0.]\n",
        " [-16.   0.   0.  64. -16.   0. -16.   0.   0.]\n",
        " [  0. -16.   0. -16.  64. -16.   0. -16.   0.]\n",
        " [  0.   0. -16.   0. -16.  64.   0.   0. -16.]\n",
        " [  0.   0.   0. -16.   0.   0.  64. -16.   0.]\n",
        " [  0.   0.   0.   0. -16.   0. -16.  64. -16.]\n",
        " [  0.   0.   0.   0.   0. -16.   0. -16.  64.]]\n"
       ]
      }
     ],
     "prompt_number": 75
    },
    {
     "cell_type": "code",
     "collapsed": false,
     "input": [
      "print \"Acces aux donn\u00e9es de Ac\"\n",
      "for k in range(Ac.size):\n",
      "    print k,\" Ac[%d,%d]=%f\"%(Ac.row[k],Ac.col[k],Ac.data[k])"
     ],
     "language": "python",
     "metadata": {},
     "outputs": [
      {
       "output_type": "stream",
       "stream": "stdout",
       "text": [
        "Acces aux donn\u00e9es de Ac\n",
        "0  Ac[0,0]=64.000000\n",
        "1  Ac[0,1]=-16.000000\n",
        "2  Ac[0,3]=-16.000000\n",
        "3  Ac[1,1]=64.000000\n",
        "4  Ac[1,0]=-16.000000\n",
        "5  Ac[1,2]=-16.000000\n",
        "6  Ac[1,4]=-16.000000\n",
        "7  Ac[2,2]=64.000000\n",
        "8  Ac[2,1]=-16.000000\n",
        "9  Ac[2,5]=-16.000000\n",
        "10  Ac[3,3]=64.000000\n",
        "11  Ac[3,4]=-16.000000\n",
        "12  Ac[3,0]=-16.000000\n",
        "13  Ac[3,6]=-16.000000\n",
        "14  Ac[4,4]=64.000000\n",
        "15  Ac[4,3]=-16.000000\n",
        "16  Ac[4,5]=-16.000000\n",
        "17  Ac[4,1]=-16.000000\n",
        "18  Ac[4,7]=-16.000000\n",
        "19  Ac[5,5]=64.000000\n",
        "20  Ac[5,4]=-16.000000\n",
        "21  Ac[5,2]=-16.000000\n",
        "22  Ac[5,8]=-16.000000\n",
        "23  Ac[6,6]=64.000000\n",
        "24  Ac[6,7]=-16.000000\n",
        "25  Ac[6,3]=-16.000000\n",
        "26  Ac[7,7]=64.000000\n",
        "27  Ac[7,6]=-16.000000\n",
        "28  Ac[7,8]=-16.000000\n",
        "29  Ac[7,4]=-16.000000\n",
        "30  Ac[8,8]=64.000000\n",
        "31  Ac[8,7]=-16.000000\n",
        "32  Ac[8,5]=-16.000000\n"
       ]
      }
     ],
     "prompt_number": 76
    },
    {
     "cell_type": "markdown",
     "metadata": {},
     "source": [
      "### Format CSR (Compressed Sparse Row)\n",
      "stockage par ligne avec 3 tableaux\n",
      "- data : liste des valeurs $A_{ij}$\n",
      "- indices: liste des numeros de colonnes\n",
      "- indptr: pointeur vers le d\u00e9but de chaque ligne dans data et indices\n"
     ]
    },
    {
     "cell_type": "code",
     "collapsed": false,
     "input": [
      "def MatCSRLap(n):\n",
      "    \"\"\" matrice laplacien 2D au format CSR \"\"\"\n",
      "    h = 1./(n+1)\n",
      "    N=5*n**2 # nbre maxi de coef. non nul\n",
      "    data=np.zeros(N)\n",
      "    col =np.zeros(N,dtype=int)\n",
      "    row =np.zeros(N,dtype=int)\n",
      "    k=0  # numerotation des inconnues\n",
      "    nz=0 # nbre de coeff. non nuls\n",
      "    for j in range(n):\n",
      "        for i in range(n):\n",
      "            data[nz]=4./h**2\n",
      "            row[nz]=k\n",
      "            col[nz]=k\n",
      "            nz=nz+1\n",
      "            if i>0: \n",
      "                data[nz]=-1./h**2\n",
      "                row[nz]=k\n",
      "                col[nz]=k-1\n",
      "                nz=nz+1\n",
      "            if i<(n-1): \n",
      "                data[nz]=-1./h**2\n",
      "                row[nz]=k\n",
      "                col[nz]=k+1\n",
      "                nz=nz+1\n",
      "            if j>0:\n",
      "                data[nz]=-1./h**2\n",
      "                row[nz]=k\n",
      "                col[nz]=k-n\n",
      "                nz=nz+1                \n",
      "            if j<(n-1): \n",
      "                data[nz]=-1./h**2\n",
      "                row[nz]=k\n",
      "                col[nz]=k+n\n",
      "                nz=nz+1\n",
      "            k=k+1\n",
      "    print \"construction de A dim=\",n**4,\" non-zero=\",nz,\" max=\",N\n",
      "    A=sps.csr_matrix((data[:nz],(row[:nz],col[:nz])),shape=(n**2,n**2))\n",
      "    return A"
     ],
     "language": "python",
     "metadata": {},
     "outputs": [],
     "prompt_number": 117
    },
    {
     "cell_type": "code",
     "collapsed": false,
     "input": [
      "n=3\n",
      "Ar=MatCSRLap(n)\n",
      "Ar"
     ],
     "language": "python",
     "metadata": {},
     "outputs": [
      {
       "output_type": "stream",
       "stream": "stdout",
       "text": [
        "construction de A dim= 81  non-zero= 33  max= 45\n"
       ]
      },
      {
       "metadata": {},
       "output_type": "pyout",
       "prompt_number": 78,
       "text": [
        "<9x9 sparse matrix of type '<type 'numpy.float64'>'\n",
        "\twith 33 stored elements in Compressed Sparse Row format>"
       ]
      }
     ],
     "prompt_number": 78
    },
    {
     "cell_type": "code",
     "collapsed": false,
     "input": [
      "print \"Donn\u00e9es de Ar\"\n",
      "print \"data=\",Ar.data\n",
      "print \"indices=\",Ar.indices\n",
      "print \"index=\",Ar.indptr\n",
      "print \"Acces aux donn\u00e9es de Ar\"\n",
      "for i in range(Ar.shape[0]):\n",
      "    for k in range(Ar.indptr[i],Ar.indptr[i+1]):\n",
      "        print k,\" Ar[%d,%d]=%f\"%(i,Ar.indices[k],Ar.data[k])"
     ],
     "language": "python",
     "metadata": {},
     "outputs": [
      {
       "output_type": "stream",
       "stream": "stdout",
       "text": [
        "Donn\u00e9es de Ar\n",
        "data= [ 64. -16. -16. -16.  64. -16. -16. -16.  64. -16. -16.  64. -16. -16. -16.\n",
        " -16.  64. -16. -16. -16. -16.  64. -16. -16.  64. -16. -16. -16.  64. -16.\n",
        " -16. -16.  64.]\n",
        "indices= [0 1 3 0 1 2 4 1 2 5 0 3 4 6 1 3 4 5 7 2 4 5 8 3 6 7 4 6 7 8 5 7 8]\n",
        "index= [ 0  3  7 10 14 19 23 26 30 33]\n",
        "Acces aux donn\u00e9es de Ar\n",
        "0  Ar[0,0]=64.000000\n",
        "1  Ar[0,1]=-16.000000\n",
        "2  Ar[0,3]=-16.000000\n",
        "3  Ar[1,0]=-16.000000\n",
        "4  Ar[1,1]=64.000000\n",
        "5  Ar[1,2]=-16.000000\n",
        "6  Ar[1,4]=-16.000000\n",
        "7  Ar[2,1]=-16.000000\n",
        "8  Ar[2,2]=64.000000\n",
        "9  Ar[2,5]=-16.000000\n",
        "10  Ar[3,0]=-16.000000\n",
        "11  Ar[3,3]=64.000000\n",
        "12  Ar[3,4]=-16.000000\n",
        "13  Ar[3,6]=-16.000000\n",
        "14  Ar[4,1]=-16.000000\n",
        "15  Ar[4,3]=-16.000000\n",
        "16  Ar[4,4]=64.000000\n",
        "17  Ar[4,5]=-16.000000\n",
        "18  Ar[4,7]=-16.000000\n",
        "19  Ar[5,2]=-16.000000\n",
        "20  Ar[5,4]=-16.000000\n",
        "21  Ar[5,5]=64.000000\n",
        "22  Ar[5,8]=-16.000000\n",
        "23  Ar[6,3]=-16.000000\n",
        "24  Ar[6,6]=64.000000\n",
        "25  Ar[6,7]=-16.000000\n",
        "26  Ar[7,4]=-16.000000\n",
        "27  Ar[7,6]=-16.000000\n",
        "28  Ar[7,7]=64.000000\n",
        "29  Ar[7,8]=-16.000000\n",
        "30  Ar[8,5]=-16.000000\n",
        "31  Ar[8,7]=-16.000000\n",
        "32  Ar[8,8]=64.000000\n"
       ]
      }
     ],
     "prompt_number": 79
    },
    {
     "cell_type": "code",
     "collapsed": false,
     "input": [
      "print \"conversion COO vers CSR\"\n",
      "Ac.tocsr()"
     ],
     "language": "python",
     "metadata": {},
     "outputs": [
      {
       "output_type": "stream",
       "stream": "stdout",
       "text": [
        "conversion COO vers CSR\n"
       ]
      },
      {
       "metadata": {},
       "output_type": "pyout",
       "prompt_number": 80,
       "text": [
        "<9x9 sparse matrix of type '<type 'numpy.float64'>'\n",
        "\twith 33 stored elements in Compressed Sparse Row format>"
       ]
      }
     ],
     "prompt_number": 80
    },
    {
     "cell_type": "code",
     "collapsed": false,
     "input": [
      "Ar.todense()\n",
      "Ar"
     ],
     "language": "python",
     "metadata": {},
     "outputs": [
      {
       "metadata": {},
       "output_type": "pyout",
       "prompt_number": 81,
       "text": [
        "<9x9 sparse matrix of type '<type 'numpy.float64'>'\n",
        "\twith 33 stored elements in Compressed Sparse Row format>"
       ]
      }
     ],
     "prompt_number": 81
    },
    {
     "cell_type": "markdown",
     "metadata": {},
     "source": [
      "### r\u00e9solution de syst\u00e8me lin\u00e9aire\n",
      "\n",
      "- Base: factorisation LU\n",
      "<img src=\"matrixEF1.png\" />\n",
      "- Mais renum\u00e9rotation des inconnues pour minimiser le remplissage\n",
      "- Matrices de permutation des lignes $P_r$ et des colonnes $P_c$\n",
      "$$ P_r \\mathbf{A} P_c= LU $$\n",
      "<img src=\"matrixEF2.png\" />\n",
      "- M\u00e9thodes de r\u00e9solution\n",
      "  - **UMFPACK** = Unsymmetric MultiFrontal method\n",
      "  - **SUPER LU** = factorisation LU avec renum\u00e9rotation"
     ]
    },
    {
     "cell_type": "code",
     "collapsed": false,
     "input": [
      "from scipy.sparse.linalg import dsolve\n",
      "n=50\n",
      "B=Smb2D(n)\n",
      "Ar=MatCSRLap(n)\n",
      "U2=dsolve.spsolve(Ar,B)\n",
      "U2=U2.reshape(n,n)\n",
      "print \"Uh dim=\",size(U2),\" min/max\",amin(U2),amax(U2),\" |U|=\",norm(U2)\n",
      "plt.axis('equal')\n",
      "plt.contourf(U1)\n",
      "plt.show()"
     ],
     "language": "python",
     "metadata": {},
     "outputs": [
      {
       "output_type": "stream",
       "stream": "stdout",
       "text": [
        "construction de A dim= 6250000  non-zero= 12300  max= 12500\n",
        "Uh dim= 2500  min/max -1.0001264007 1.0001264007  |U|= 25.5274317909\n"
       ]
      },
      {
       "metadata": {},
       "output_type": "display_data",
       "png": "[encoded data removed]",
       "text": [
        "<matplotlib.figure.Figure at 0x7f10657af250>"
       ]
      }
     ],
     "prompt_number": 82
    },
    {
     "cell_type": "code",
     "collapsed": false,
     "input": [
      "%timeit U2=dsolve.spsolve(Ar,B,use_umfpack=True,permc_spec=\"MMD_ATA\")\n",
      "%timeit U2=dsolve.spsolve(Ar,B,use_umfpack=False,permc_spec=\"NATURAL\")"
     ],
     "language": "python",
     "metadata": {},
     "outputs": [
      {
       "output_type": "stream",
       "stream": "stdout",
       "text": [
        "100 loops, best of 3: 8.79 ms per loop\n",
        "10 loops, best of 3: 25.8 ms per loop"
       ]
      },
      {
       "output_type": "stream",
       "stream": "stdout",
       "text": [
        "\n"
       ]
      }
     ],
     "prompt_number": 83
    },
    {
     "cell_type": "code",
     "collapsed": false,
     "input": [
      "As=Ar.tocsc()\n",
      "LU=sps.linalg.splu(As,permc_spec=\"COLAMD\")\n",
      "print \"renumerotation mininum degre nnz=\",LU.nnz\n",
      "%timeit LU=sps.linalg.splu(As,permc_spec=\"COLAMD\")\n",
      "LU=sps.linalg.splu(As,permc_spec=\"NATURAL\")\n",
      "print \"renumerotation naturelle=\",LU.nnz\n",
      "%timeit LU=sps.linalg.splu(As,permc_spec=\"NATURAL\")\n",
      "LU=sps.linalg.splu(As,permc_spec=\"MMD_ATA\")\n",
      "print \"renumerotation mininum degre AtA nnz=\",LU.nnz\n",
      "%timeit LU=sps.linalg.splu(As,permc_spec=\"MMD_ATA\")"
     ],
     "language": "python",
     "metadata": {},
     "outputs": [
      {
       "output_type": "stream",
       "stream": "stdout",
       "text": [
        "renumerotation mininum degre nnz= 121708\n",
        "100 loops, best of 3: 8.5 ms per loop"
       ]
      },
      {
       "output_type": "stream",
       "stream": "stdout",
       "text": [
        "\n",
        "renumerotation naturelle= 250158\n",
        "10 loops, best of 3: 25.2 ms per loop"
       ]
      },
      {
       "output_type": "stream",
       "stream": "stdout",
       "text": [
        "\n",
        "renumerotation mininum degre AtA nnz= 116194\n",
        "100 loops, best of 3: 8.28 ms per loop"
       ]
      },
      {
       "output_type": "stream",
       "stream": "stdout",
       "text": [
        "\n"
       ]
      }
     ],
     "prompt_number": 84
    },
    {
     "cell_type": "code",
     "collapsed": false,
     "input": [
      "def Permutation(permc,permr):\n",
      "    \"\"\"calcul les matrices de permutations\"\"\"\n",
      "    N=size(permc)\n",
      "    Pc=zeros((N,N))\n",
      "    Pr=zeros((N,N))\n",
      "    for i in range(N):\n",
      "        Pc[i,permc[i]]=1.0\n",
      "        Pr[permr[i],i]=1.0\n",
      "    return Pc,Pr"
     ],
     "language": "python",
     "metadata": {},
     "outputs": [],
     "prompt_number": 85
    },
    {
     "cell_type": "code",
     "collapsed": false,
     "input": [
      "Pc,Pr=Permutation(LU.perm_c,LU.perm_r)\n",
      "plt.figure(figsize=(12,6))\n",
      "plt.subplot(1,2,1)\n",
      "plt.spy(Pc,markersize=3)\n",
      "plt.subplot(1,2,2)\n",
      "plt.spy(Pr,markersize=3)\n",
      "plt.show()"
     ],
     "language": "python",
     "metadata": {},
     "outputs": [
      {
       "metadata": {},
       "output_type": "display_data",
       "png": "[encoded data removed]",
       "text": [
        "<matplotlib.figure.Figure at 0x7f106567eed0>"
       ]
      }
     ],
     "prompt_number": 86
    },
    {
     "cell_type": "code",
     "collapsed": false,
     "input": [
      "A=MatLap(n)\n",
      "PL,U=sp.linalg.lu(A,permute_l=True)\n",
      "PLU=PL+U\n",
      "plt.figure(figsize=(12,6))\n",
      "plt.subplot(1,2,1)\n",
      "plt.spy(A,markersize=3)\n",
      "plt.title(\"A dim=%d non-zero=%d\"%(size(A),count_nonzero(A)),fontsize=20)\n",
      "plt.subplot(1,2,2)\n",
      "plt.spy(PLU,markersize=3)\n",
      "plt.title(\"LU dim=%d non-zero=%d\"%(size(PLU),count_nonzero(PLU)),fontsize=20)\n",
      "plt.show()"
     ],
     "language": "python",
     "metadata": {},
     "outputs": [
      {
       "metadata": {},
       "output_type": "display_data",
       "png": "[encoded data removed]",
       "text": [
        "<matplotlib.figure.Figure at 0x7f10641293d0>"
       ]
      }
     ],
     "prompt_number": 87
    },
    {
     "cell_type": "code",
     "collapsed": false,
     "input": [
      "A2=dot(Pr,dot(A,Pc))\n",
      "PL2,U2=sp.linalg.lu(A2,permute_l=True)\n",
      "PLU2=PL2+U2\n",
      "plt.figure(figsize=(12,6))\n",
      "plt.subplot(1,2,1)\n",
      "plt.spy(A2,markersize=3)\n",
      "plt.title(\"A dim=%d non-zero=%d\"%(size(A2),count_nonzero(A2)),fontsize=20)\n",
      "plt.subplot(1,2,2)\n",
      "plt.spy(PLU2,markersize=3)\n",
      "plt.title(\"LU dim=%d non-zero=%d\"%(size(PLU2),count_nonzero(PLU2)),fontsize=20)\n",
      "plt.show()"
     ],
     "language": "python",
     "metadata": {},
     "outputs": [
      {
       "metadata": {},
       "output_type": "display_data",
       "png": "[encoded data removed]",
       "text": [
        "<matplotlib.figure.Figure at 0x7f10641b28d0>"
       ]
      }
     ],
     "prompt_number": 88
    },
    {
     "cell_type": "code",
     "collapsed": false,
     "input": [],
     "language": "python",
     "metadata": {},
     "outputs": [],
     "prompt_number": 88
    }
   ],
   "metadata": {}
  }
 ]
}